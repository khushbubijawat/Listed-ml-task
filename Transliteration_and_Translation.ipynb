{
  "cells": [
    {
      "cell_type": "markdown",
      "metadata": {
        "id": "VxPcyDxv-p_o"
      },
      "source": [
        "### English to Hindi Transliteration Tutorial"
      ]
    },
    {
      "cell_type": "markdown",
      "metadata": {
        "id": "AQlTnwoa-p_y"
      },
      "source": [
        "#### GPU"
      ]
    },
    {
      "cell_type": "code",
      "execution_count": 1,
      "metadata": {
        "colab": {
          "base_uri": "https://localhost:8080/"
        },
        "id": "XIGmzPUd-p_y",
        "outputId": "628d75a9-83e3-4a5e-efc4-83948faae3d2",
        "scrolled": true
      },
      "outputs": [
        {
          "name": "stdout",
          "output_type": "stream",
          "text": [
            "env: CUDA_VISIBLE_DEVICES=0\n"
          ]
        }
      ],
      "source": [
        "%env CUDA_VISIBLE_DEVICES=0"
      ]
    },
    {
      "cell_type": "markdown",
      "metadata": {
        "id": "HZ3oFh9M-p_0"
      },
      "source": [
        "#### Download Data"
      ]
    },
    {
      "cell_type": "code",
      "execution_count": 2,
      "metadata": {
        "colab": {
          "base_uri": "https://localhost:8080/"
        },
        "id": "iVwaQzHO-p_0",
        "outputId": "77620132-d309-482a-b860-ad5637f06e42"
      },
      "outputs": [
        {
          "name": "stdout",
          "output_type": "stream",
          "text": [
            "--2021-04-12 22:17:35--  https://raw.githubusercontent.com/bsantraigi/tensorflow-seq2seq-hindi/master/data/Hindi%20-%20Word%20Transliteration%20Pairs%201.txt\n",
            "Resolving raw.githubusercontent.com (raw.githubusercontent.com)... 185.199.108.133, 185.199.109.133, 185.199.110.133, ...\n",
            "Connecting to raw.githubusercontent.com (raw.githubusercontent.com)|185.199.108.133|:443... connected.\n",
            "HTTP request sent, awaiting response... 200 OK\n",
            "Length: 773211 (755K) [text/plain]\n",
            "Saving to: ‘data/Hindi - Word Transliteration Pairs 1.txt’\n",
            "\n",
            "\r          Hindi - W   0%[                    ]       0  --.-KB/s               \rHindi - Word Transl 100%[===================>] 755.09K  --.-KB/s    in 0.02s   \n",
            "\n",
            "Last-modified header missing -- time-stamps turned off.\n",
            "2021-04-12 22:17:35 (43.9 MB/s) - ‘data/Hindi - Word Transliteration Pairs 1.txt’ saved [773211/773211]\n",
            "\n"
          ]
        }
      ],
      "source": [
        "!mkdir data\n",
        "!wget -N \"https://raw.githubusercontent.com/bsantraigi/tensorflow-seq2seq-hindi/master/data/Hindi%20-%20Word%20Transliteration%20Pairs%201.txt\" -P data/"
      ]
    },
    {
      "cell_type": "code",
      "execution_count": 3,
      "metadata": {
        "colab": {
          "base_uri": "https://localhost:8080/"
        },
        "id": "sEHamlMoRn_T",
        "outputId": "369183b9-10c6-4b6e-b26f-b5995e93c3ba"
      },
      "outputs": [
        {
          "name": "stdout",
          "output_type": "stream",
          "text": [
            "Collecting tensorflow==1.13.2\n",
            "\u001b[?25l  Downloading https://files.pythonhosted.org/packages/bc/70/45d3b9fab768215a2055c7819d39547a4b0b7401b4583094068741aff99b/tensorflow-1.13.2-cp37-cp37m-manylinux1_x86_64.whl (92.7MB)\n",
            "\u001b[K     |████████████████████████████████| 92.7MB 43kB/s \n",
            "\u001b[?25hRequirement already satisfied: numpy<2.0,>=1.16.0 in /usr/local/lib/python3.7/dist-packages (from tensorflow==1.13.2) (1.19.5)\n",
            "Requirement already satisfied: grpcio>=1.8.6 in /usr/local/lib/python3.7/dist-packages (from tensorflow==1.13.2) (1.32.0)\n",
            "Requirement already satisfied: wheel>=0.26 in /usr/local/lib/python3.7/dist-packages (from tensorflow==1.13.2) (0.36.2)\n",
            "Requirement already satisfied: astor>=0.6.0 in /usr/local/lib/python3.7/dist-packages (from tensorflow==1.13.2) (0.8.1)\n",
            "Collecting tensorboard<1.14.0,>=1.13.0\n",
            "\u001b[?25l  Downloading https://files.pythonhosted.org/packages/0f/39/bdd75b08a6fba41f098b6cb091b9e8c7a80e1b4d679a581a0ccd17b10373/tensorboard-1.13.1-py3-none-any.whl (3.2MB)\n",
            "\u001b[K     |████████████████████████████████| 3.2MB 33.0MB/s \n",
            "\u001b[?25hRequirement already satisfied: termcolor>=1.1.0 in /usr/local/lib/python3.7/dist-packages (from tensorflow==1.13.2) (1.1.0)\n",
            "Requirement already satisfied: gast>=0.2.0 in /usr/local/lib/python3.7/dist-packages (from tensorflow==1.13.2) (0.3.3)\n",
            "Requirement already satisfied: protobuf>=3.6.1 in /usr/local/lib/python3.7/dist-packages (from tensorflow==1.13.2) (3.12.4)\n",
            "Requirement already satisfied: six>=1.10.0 in /usr/local/lib/python3.7/dist-packages (from tensorflow==1.13.2) (1.15.0)\n",
            "Collecting keras-applications>=1.0.6\n",
            "\u001b[?25l  Downloading https://files.pythonhosted.org/packages/71/e3/19762fdfc62877ae9102edf6342d71b28fbfd9dea3d2f96a882ce099b03f/Keras_Applications-1.0.8-py3-none-any.whl (50kB)\n",
            "\u001b[K     |████████████████████████████████| 51kB 5.6MB/s \n",
            "\u001b[?25hRequirement already satisfied: absl-py>=0.1.6 in /usr/local/lib/python3.7/dist-packages (from tensorflow==1.13.2) (0.12.0)\n",
            "Requirement already satisfied: keras-preprocessing>=1.0.5 in /usr/local/lib/python3.7/dist-packages (from tensorflow==1.13.2) (1.1.2)\n",
            "Collecting tensorflow-estimator<1.14.0rc0,>=1.13.0\n",
            "\u001b[?25l  Downloading https://files.pythonhosted.org/packages/bb/48/13f49fc3fa0fdf916aa1419013bb8f2ad09674c275b4046d5ee669a46873/tensorflow_estimator-1.13.0-py2.py3-none-any.whl (367kB)\n",
            "\u001b[K     |████████████████████████████████| 368kB 43.5MB/s \n",
            "\u001b[?25hRequirement already satisfied: markdown>=2.6.8 in /usr/local/lib/python3.7/dist-packages (from tensorboard<1.14.0,>=1.13.0->tensorflow==1.13.2) (3.3.4)\n",
            "Requirement already satisfied: werkzeug>=0.11.15 in /usr/local/lib/python3.7/dist-packages (from tensorboard<1.14.0,>=1.13.0->tensorflow==1.13.2) (1.0.1)\n",
            "Requirement already satisfied: setuptools in /usr/local/lib/python3.7/dist-packages (from protobuf>=3.6.1->tensorflow==1.13.2) (54.2.0)\n",
            "Requirement already satisfied: h5py in /usr/local/lib/python3.7/dist-packages (from keras-applications>=1.0.6->tensorflow==1.13.2) (2.10.0)\n",
            "Collecting mock>=2.0.0\n",
            "  Downloading https://files.pythonhosted.org/packages/5c/03/b7e605db4a57c0f6fba744b11ef3ddf4ddebcada35022927a2b5fc623fdf/mock-4.0.3-py3-none-any.whl\n",
            "Requirement already satisfied: importlib-metadata; python_version < \"3.8\" in /usr/local/lib/python3.7/dist-packages (from markdown>=2.6.8->tensorboard<1.14.0,>=1.13.0->tensorflow==1.13.2) (3.8.1)\n",
            "Requirement already satisfied: zipp>=0.5 in /usr/local/lib/python3.7/dist-packages (from importlib-metadata; python_version < \"3.8\"->markdown>=2.6.8->tensorboard<1.14.0,>=1.13.0->tensorflow==1.13.2) (3.4.1)\n",
            "Requirement already satisfied: typing-extensions>=3.6.4; python_version < \"3.8\" in /usr/local/lib/python3.7/dist-packages (from importlib-metadata; python_version < \"3.8\"->markdown>=2.6.8->tensorboard<1.14.0,>=1.13.0->tensorflow==1.13.2) (3.7.4.3)\n",
            "Installing collected packages: tensorboard, keras-applications, mock, tensorflow-estimator, tensorflow\n",
            "  Found existing installation: tensorboard 2.4.1\n",
            "    Uninstalling tensorboard-2.4.1:\n",
            "      Successfully uninstalled tensorboard-2.4.1\n",
            "  Found existing installation: tensorflow-estimator 2.4.0\n",
            "    Uninstalling tensorflow-estimator-2.4.0:\n",
            "      Successfully uninstalled tensorflow-estimator-2.4.0\n",
            "  Found existing installation: tensorflow 2.4.1\n",
            "    Uninstalling tensorflow-2.4.1:\n",
            "      Successfully uninstalled tensorflow-2.4.1\n",
            "Successfully installed keras-applications-1.0.8 mock-4.0.3 tensorboard-1.13.1 tensorflow-1.13.2 tensorflow-estimator-1.13.0\n"
          ]
        }
      ],
      "source": [
        "!pip install tensorflow==1.13.2"
      ]
    },
    {
      "cell_type": "code",
      "execution_count": 4,
      "metadata": {
        "colab": {
          "base_uri": "https://localhost:8080/"
        },
        "id": "9PXTy2YBGhJo",
        "outputId": "8f50b064-8e99-4f5e-ec86-8ee2f9113b34"
      },
      "outputs": [
        {
          "name": "stdout",
          "output_type": "stream",
          "text": [
            "Collecting indic-transliteration\n",
            "\u001b[?25l  Downloading https://files.pythonhosted.org/packages/ad/b2/cbb12eda3aaf61ac6265bca156c1039d0a089c73b6b772e52ed12aa9a9f6/indic_transliteration-2.1.0-py3-none-any.whl (98kB)\n",
            "\u001b[K     |████████████████████████████████| 102kB 6.7MB/s \n",
            "\u001b[?25hCollecting selenium==3.141.0\n",
            "\u001b[?25l  Downloading https://files.pythonhosted.org/packages/80/d6/4294f0b4bce4de0abf13e17190289f9d0613b0a44e5dd6a7f5ca98459853/selenium-3.141.0-py2.py3-none-any.whl (904kB)\n",
            "\u001b[K     |████████████████████████████████| 911kB 33.9MB/s \n",
            "\u001b[?25hCollecting regex==2020.9.27\n",
            "\u001b[?25l  Downloading https://files.pythonhosted.org/packages/99/bf/c4f2ade22b5ef3c7e6a3c52bc188bdfe3abb4b0d935db3a1b26945747906/regex-2020.9.27-cp37-cp37m-manylinux2010_x86_64.whl (662kB)\n",
            "\u001b[K     |████████████████████████████████| 665kB 47.9MB/s \n",
            "\u001b[?25hCollecting backports.functools-lru-cache==1.6.1\n",
            "  Downloading https://files.pythonhosted.org/packages/da/d1/080d2bb13773803648281a49e3918f65b31b7beebf009887a529357fd44a/backports.functools_lru_cache-1.6.1-py2.py3-none-any.whl\n",
            "Requirement already satisfied: urllib3 in /usr/local/lib/python3.7/dist-packages (from selenium==3.141.0->indic-transliteration) (1.24.3)\n",
            "Installing collected packages: selenium, regex, backports.functools-lru-cache, indic-transliteration\n",
            "  Found existing installation: regex 2019.12.20\n",
            "    Uninstalling regex-2019.12.20:\n",
            "      Successfully uninstalled regex-2019.12.20\n",
            "Successfully installed backports.functools-lru-cache-1.6.1 indic-transliteration-2.1.0 regex-2020.9.27 selenium-3.141.0\n"
          ]
        }
      ],
      "source": [
        "!pip install indic-transliteration\n"
      ]
    },
    {
      "cell_type": "code",
      "execution_count": 5,
      "metadata": {
        "colab": {
          "base_uri": "https://localhost:8080/"
        },
        "id": "JBJKWIRH-p_1",
        "outputId": "ff4967ee-1d6a-4897-d298-64579aee5fa1"
      },
      "outputs": [
        {
          "name": "stderr",
          "output_type": "stream",
          "text": [
            "/usr/local/lib/python3.7/dist-packages/tensorflow/python/framework/dtypes.py:526: FutureWarning: Passing (type, 1) or '1type' as a synonym of type is deprecated; in a future version of numpy, it will be understood as (type, (1,)) / '(1,)type'.\n",
            "  _np_qint8 = np.dtype([(\"qint8\", np.int8, 1)])\n",
            "/usr/local/lib/python3.7/dist-packages/tensorflow/python/framework/dtypes.py:527: FutureWarning: Passing (type, 1) or '1type' as a synonym of type is deprecated; in a future version of numpy, it will be understood as (type, (1,)) / '(1,)type'.\n",
            "  _np_quint8 = np.dtype([(\"quint8\", np.uint8, 1)])\n",
            "/usr/local/lib/python3.7/dist-packages/tensorflow/python/framework/dtypes.py:528: FutureWarning: Passing (type, 1) or '1type' as a synonym of type is deprecated; in a future version of numpy, it will be understood as (type, (1,)) / '(1,)type'.\n",
            "  _np_qint16 = np.dtype([(\"qint16\", np.int16, 1)])\n",
            "/usr/local/lib/python3.7/dist-packages/tensorflow/python/framework/dtypes.py:529: FutureWarning: Passing (type, 1) or '1type' as a synonym of type is deprecated; in a future version of numpy, it will be understood as (type, (1,)) / '(1,)type'.\n",
            "  _np_quint16 = np.dtype([(\"quint16\", np.uint16, 1)])\n",
            "/usr/local/lib/python3.7/dist-packages/tensorflow/python/framework/dtypes.py:530: FutureWarning: Passing (type, 1) or '1type' as a synonym of type is deprecated; in a future version of numpy, it will be understood as (type, (1,)) / '(1,)type'.\n",
            "  _np_qint32 = np.dtype([(\"qint32\", np.int32, 1)])\n",
            "/usr/local/lib/python3.7/dist-packages/tensorflow/python/framework/dtypes.py:535: FutureWarning: Passing (type, 1) or '1type' as a synonym of type is deprecated; in a future version of numpy, it will be understood as (type, (1,)) / '(1,)type'.\n",
            "  np_resource = np.dtype([(\"resource\", np.ubyte, 1)])\n"
          ]
        }
      ],
      "source": [
        "import nltk\n",
        "from collections import Counter\n",
        "from tqdm import tqdm_notebook\n",
        "import numpy as np\n",
        "import tensorflow as tf\n",
        "from tensorflow.contrib import seq2seq\n",
        "from tensorflow.contrib.rnn import DropoutWrapper\n",
        "import random"
      ]
    },
    {
      "cell_type": "code",
      "execution_count": 6,
      "metadata": {
        "colab": {
          "base_uri": "https://localhost:8080/"
        },
        "id": "DR0deAuc-p_1",
        "outputId": "2e1778d8-da5f-4365-d1b7-4d40d1c02740"
      },
      "outputs": [
        {
          "name": "stdout",
          "output_type": "stream",
          "text": [
            "[nltk_data] Downloading package punkt to /root/nltk_data...\n",
            "[nltk_data]   Unzipping tokenizers/punkt.zip.\n"
          ]
        },
        {
          "data": {
            "text/plain": [
              "True"
            ]
          },
          "execution_count": 6,
          "metadata": {
            "tags": []
          },
          "output_type": "execute_result"
        }
      ],
      "source": [
        "nltk.download('punkt')"
      ]
    },
    {
      "cell_type": "markdown",
      "metadata": {
        "id": "M6mAD-w2-p_2"
      },
      "source": [
        "#### Global Parameters"
      ]
    },
    {
      "cell_type": "code",
      "execution_count": 7,
      "metadata": {
        "id": "y6iWmbHh-p_2"
      },
      "outputs": [],
      "source": [
        "MAX_SEQ_LEN = 20\n",
        "BATCH_SIZE = 64"
      ]
    },
    {
      "cell_type": "markdown",
      "metadata": {
        "id": "-MnW6aZ3-p_2"
      },
      "source": [
        "### Language Vocabulary \n",
        "* (Vocab of characters, i.e. an Alphabet)"
      ]
    },
    {
      "cell_type": "code",
      "execution_count": 8,
      "metadata": {
        "id": "kh9JvIev-p_3"
      },
      "outputs": [],
      "source": [
        "class Lang:\n",
        "    def __init__(self, counter, vocab_size):\n",
        "        self.word2id = {}\n",
        "        self.id2word = {}\n",
        "        self.pad = \"<PAD>\"\n",
        "        self.sos = \"<SOS>\"\n",
        "        self.eos = \"<EOS>\"\n",
        "        self.unk = \"<UNK>\"\n",
        "        \n",
        "        self.ipad = 0\n",
        "        self.isos = 1\n",
        "        self.ieos = 2\n",
        "        self.iunk = 3\n",
        "        \n",
        "        self.word2id[self.pad] = 0\n",
        "        self.word2id[self.sos] = 1\n",
        "        self.word2id[self.eos] = 2\n",
        "        self.word2id[self.unk] = 3\n",
        "        \n",
        "        self.id2word[0] = self.pad\n",
        "        self.id2word[1] = self.sos\n",
        "        self.id2word[2] = self.eos\n",
        "        self.id2word[3] = self.unk\n",
        "        \n",
        "        curr_id = 4\n",
        "        for w, c in counter.most_common(vocab_size):\n",
        "            self.word2id[w] = curr_id\n",
        "            self.id2word[curr_id] = w\n",
        "            curr_id += 1\n",
        "            \n",
        "    def encodeSentence(self, s, max_len=-1):\n",
        "        wseq = s.lower().strip()\n",
        "        if max_len == -1:\n",
        "            return [self.word2id[w] if w in self.word2id else self.iunk for w in wseq]\n",
        "        else:\n",
        "            return ([self.word2id[w] if w in self.word2id else self.iunk for w in wseq] + [self.ieos] + [self.ipad]*max_len)[:max_len]\n",
        "        \n",
        "    def encodeSentence2(self, s, max_len=-1):\n",
        "        wseq = wseq = s.lower().strip()\n",
        "        return min(max_len, len(wseq)+1), \\\n",
        "            ([self.word2id[w] if w in self.word2id else self.iunk for w in wseq] + \\\n",
        "                [self.ieos] + [self.ipad]*max_len)[:max_len]\n",
        "    \n",
        "    def decodeSentence(self, id_seq):\n",
        "        id_seq = np.array(id_seq + [self.ieos])\n",
        "        j = np.argmax(id_seq==self.ieos)\n",
        "        s = ''.join([self.id2word[x] for x in id_seq[:j]])\n",
        "        s = s.replace(self.unk, \"UNK\")\n",
        "        return s"
      ]
    },
    {
      "cell_type": "code",
      "execution_count": 9,
      "metadata": {
        "id": "SjUTpWqJ-p_3"
      },
      "outputs": [],
      "source": [
        "# Total number of samples to read\n",
        "N = 30823"
      ]
    },
    {
      "cell_type": "markdown",
      "metadata": {
        "id": "578dYtj4-p_3"
      },
      "source": [
        "### Reading the data files\n",
        "- Each line contains a hindi word in both English and Devnagari script"
      ]
    },
    {
      "cell_type": "code",
      "execution_count": 10,
      "metadata": {
        "colab": {
          "base_uri": "https://localhost:8080/"
        },
        "id": "uZyTWnE13RHK",
        "outputId": "c39ada97-aef8-4c00-9d0e-2f84e3e82c5d"
      },
      "outputs": [
        {
          "name": "stdout",
          "output_type": "stream",
          "text": [
            "Mounted at /content/drive\n"
          ]
        }
      ],
      "source": [
        "from google.colab import drive\n",
        "drive.mount('/content/drive')"
      ]
    },
    {
      "cell_type": "code",
      "execution_count": 11,
      "metadata": {
        "colab": {
          "base_uri": "https://localhost:8080/",
          "height": 326,
          "referenced_widgets": [
            "33af51bdabd8447bb3d3a8a3113b0cc0",
            "4abd2e58c1814c2e820c4e89fb2a1915",
            "aefc7abc54954fa8b4ca436f62135737",
            "cf010d6f2e6242b0908e2c36fe412ecf",
            "9c7a41c06997467f97d1a71fd06ee366",
            "2705545d33064f07a196b5c9ab4d52a0",
            "e8bcabd8d1f2496a826c71bb864a0c21",
            "16197148257e414b981f04fe74f32082",
            "5316a4a9531e451c95cf0499736f5ae6",
            "1076c4135e404c4695d4413a84095c72",
            "cd659f72e3cf4c68ae7b0060f923908e",
            "4c62a28431704e1d820c648600598b00",
            "202a9c83e0cd42a78219d6136b632fb3",
            "b6cc4179cfc94cfea38c90a9a927314b",
            "0f539f2e275c47c88d2e44a332894df3",
            "11dcd5739d5148909d4926bb9b905f97",
            "547059fe8f354b4abaaf733dc4957d6d",
            "41628441aefb4300a9ed20c8bc99d555",
            "0d20ec252dd2451ea73ec2f3d1b74cc9",
            "a41720300e9b4be0bf2ea1db12e8c0ff",
            "591343ffec8c468bad0ab08d0dfb7e3d",
            "72488114ad8147eba05312837f6ba1d5",
            "74d35c2d510c47dea393fa0617b6dc3c",
            "4af08abcbce0440cb53e8906d0500130"
          ]
        },
        "id": "WVL1qhCX-p_4",
        "outputId": "a58827ea-68e9-4a30-e2d1-0f26339e3b5a"
      },
      "outputs": [
        {
          "name": "stderr",
          "output_type": "stream",
          "text": [
            "/usr/local/lib/python3.7/dist-packages/ipykernel_launcher.py:8: TqdmDeprecationWarning: This function will be removed in tqdm==5.0.0\n",
            "Please use `tqdm.notebook.tqdm` instead of `tqdm.tqdm_notebook`\n",
            "  \n"
          ]
        },
        {
          "data": {
            "application/vnd.jupyter.widget-view+json": {
              "model_id": "33af51bdabd8447bb3d3a8a3113b0cc0",
              "version_major": 2,
              "version_minor": 0
            },
            "text/plain": [
              "HBox(children=(FloatProgress(value=0.0, description='Reading file:', max=30823.0, style=ProgressStyle(descript…"
            ]
          },
          "metadata": {
            "tags": []
          },
          "output_type": "display_data"
        },
        {
          "name": "stdout",
          "output_type": "stream",
          "text": [
            "\n"
          ]
        },
        {
          "name": "stderr",
          "output_type": "stream",
          "text": [
            "/usr/local/lib/python3.7/dist-packages/ipykernel_launcher.py:12: TqdmDeprecationWarning: This function will be removed in tqdm==5.0.0\n",
            "Please use `tqdm.notebook.tqdm` instead of `tqdm.tqdm_notebook`\n",
            "  if sys.path[0] == '':\n"
          ]
        },
        {
          "data": {
            "application/vnd.jupyter.widget-view+json": {
              "model_id": "5316a4a9531e451c95cf0499736f5ae6",
              "version_major": 2,
              "version_minor": 0
            },
            "text/plain": [
              "HBox(children=(FloatProgress(value=0.0, description='Processing inputs:', max=30823.0, style=ProgressStyle(des…"
            ]
          },
          "metadata": {
            "tags": []
          },
          "output_type": "display_data"
        },
        {
          "name": "stdout",
          "output_type": "stream",
          "text": [
            "\n"
          ]
        },
        {
          "name": "stderr",
          "output_type": "stream",
          "text": [
            "/usr/local/lib/python3.7/dist-packages/ipykernel_launcher.py:15: TqdmDeprecationWarning: This function will be removed in tqdm==5.0.0\n",
            "Please use `tqdm.notebook.tqdm` instead of `tqdm.tqdm_notebook`\n",
            "  from ipykernel import kernelapp as app\n"
          ]
        },
        {
          "data": {
            "application/vnd.jupyter.widget-view+json": {
              "model_id": "547059fe8f354b4abaaf733dc4957d6d",
              "version_major": 2,
              "version_minor": 0
            },
            "text/plain": [
              "HBox(children=(FloatProgress(value=0.0, description='Processing inputs:', max=30823.0, style=ProgressStyle(des…"
            ]
          },
          "metadata": {
            "tags": []
          },
          "output_type": "display_data"
        },
        {
          "name": "stdout",
          "output_type": "stream",
          "text": [
            "\n"
          ]
        }
      ],
      "source": [
        "hi_counter = Counter()\n",
        "hi_sentences=[]\n",
        "en_counter = Counter()\n",
        "en_sentences=[]\n",
        "#with open(\"Hindi - Word Transliteration Pairs 1.txt\") as f:\n",
        "\n",
        "with open(\"/content/drive/MyDrive/Hinglish/Hindi - Word Transliteration Pairs 1.txt\") as f:\n",
        "    for line in tqdm_notebook(f, total=N, desc=\"Reading file:\"):\n",
        "        en, hi = line.strip().split(\"\\t\")\n",
        "        hi_sentences.append(hi)\n",
        "        en_sentences.append(en)\n",
        "    for line in tqdm_notebook(hi_sentences, desc=\"Processing inputs:\"):\n",
        "        for w in line.strip():\n",
        "            hi_counter[w] += 1\n",
        "    for line in tqdm_notebook(en_sentences, desc=\"Processing inputs:\"):\n",
        "        for w in line.strip():\n",
        "            en_counter[w] += 1"
      ]
    },
    {
      "cell_type": "code",
      "execution_count": 12,
      "metadata": {
        "colab": {
          "base_uri": "https://localhost:8080/"
        },
        "id": "OGaj2L93-p_5",
        "outputId": "b54d24ca-2601-46c9-da02-075959b95355",
        "scrolled": true
      },
      "outputs": [
        {
          "name": "stdout",
          "output_type": "stream",
          "text": [
            "Most common hi characters in dataset:\n",
            " [('ा', 21123), ('र', 9205), ('े', 8100), ('न', 7225), ('ी', 6546)]\n",
            "\n",
            "Total (hi)characters gathered from dataset: 66\n",
            "\n",
            "Most common en characters in dataset:\n",
            " [('a', 57220), ('n', 15015), ('i', 14015), ('h', 13805), ('e', 12264)]\n",
            "\n",
            "Total (en)characters gathered from dataset: 27\n"
          ]
        }
      ],
      "source": [
        "# A few sample hindi characters\n",
        "print(\"Most common hi characters in dataset:\\n\", hi_counter.most_common(5))\n",
        "\n",
        "print(\"\\nTotal (hi)characters gathered from dataset:\",len(hi_counter))\n",
        "\n",
        "# A few sample english characters\n",
        "print(\"\\nMost common en characters in dataset:\\n\", en_counter.most_common(5))\n",
        "\n",
        "print(\"\\nTotal (en)characters gathered from dataset:\", len(en_counter))"
      ]
    },
    {
      "cell_type": "code",
      "execution_count": 13,
      "metadata": {
        "id": "uf9QVy6I-p_5"
      },
      "outputs": [],
      "source": [
        "en_lang = Lang(en_counter, len(en_counter))\n",
        "hi_lang = Lang(hi_counter, len(hi_counter))"
      ]
    },
    {
      "cell_type": "code",
      "execution_count": 14,
      "metadata": {
        "colab": {
          "base_uri": "https://localhost:8080/"
        },
        "id": "HxqEzUswH_JI",
        "outputId": "61fc50cd-f184-47e5-b9e6-bd6faf75f1d6"
      },
      "outputs": [
        {
          "name": "stdout",
          "output_type": "stream",
          "text": [
            "<__main__.Lang object at 0x7fdb7a4dfd90>\n",
            "<__main__.Lang object at 0x7fdb7a4dfb90>\n"
          ]
        }
      ],
      "source": [
        "print(en_lang)\n",
        "print(hi_lang)"
      ]
    },
    {
      "cell_type": "code",
      "execution_count": 15,
      "metadata": {
        "colab": {
          "base_uri": "https://localhost:8080/"
        },
        "id": "0mE6OWku-p_6",
        "outputId": "ac8173a0-e5bd-4470-f0d6-66af7cf0a0c8",
        "scrolled": true
      },
      "outputs": [
        {
          "name": "stdout",
          "output_type": "stream",
          "text": [
            "Test en encoding: [15, 7, 10, 13, 9, 6, 20, 4]\n",
            "Test en decoding: shukriya\n",
            "Test hindi encoding: [35, 19, 15, 22, 5, 12, 21, 4, 2, 0]\n",
            "Test hindi decoding: शुक्रिया\n"
          ]
        }
      ],
      "source": [
        "print(\"Test en encoding:\", en_lang.encodeSentence(\"Shukriya\"))\n",
        "\n",
        "print(\"Test en decoding:\", en_lang.decodeSentence(en_lang.encodeSentence(\"Shukriya\", 10)))\n",
        "\n",
        "print(\"Test hindi encoding:\", hi_lang.encodeSentence(\"शुक्रिया\", 10))\n",
        "\n",
        "print(\"Test hindi decoding:\", hi_lang.decodeSentence((hi_lang.encodeSentence(\"शुक्रिया\", 10))))"
      ]
    },
    {
      "cell_type": "code",
      "execution_count": 16,
      "metadata": {
        "id": "S6ay2TYz-p_6"
      },
      "outputs": [],
      "source": [
        "VE = len(en_lang.word2id)\n",
        "VH = len(hi_lang.word2id)"
      ]
    },
    {
      "cell_type": "markdown",
      "metadata": {
        "id": "GV2Yw3Li-p_6"
      },
      "source": [
        "# The Seq2Seq architecture\n",
        "Seq2Seq is a method of encoder-decoder based machine translation and language processing that maps an input of sequence to an output of sequence with a tag and attention value. The idea is to use 2 RNNs that will work together with a special token and try to predict the next state sequence from the previous sequence.\n",
        "\n",
        "A typical sequence to sequence model has two parts – an encoder and a decoder. Both the parts are practically two different neural network models combined into one giant network. \n",
        "Broadly, the task of an encoder network is to understand the input sequence, and create a smaller dimensional representation of it. This representation is then forwarded to a decoder network which generates a sequence of its own that represents the output. Let’s take an example of a conversational agent to understand the concept.\n",
        "\n",
        "- We will implement a seq2seq architecture for transliteration in Tensorflow r1.13.1 / r1.14\n",
        "- Debugging Tip: Always keep track of tensor dimensions!\n",
        "- **Tensorflow Computation Graph** - We will build a tf computation graph first. This is the representation used by tf for any neural network architecture. Once the computation graph is built, you can feed data to it for training or inference"
      ]
    },
    {
      "cell_type": "markdown",
      "metadata": {
        "id": "HvsDbR7X-p_7"
      },
      "source": [
        "#### Character Embedding Matrix"
      ]
    },
    {
      "cell_type": "code",
      "execution_count": 17,
      "metadata": {
        "colab": {
          "base_uri": "https://localhost:8080/"
        },
        "id": "nlncjrJB-p_7",
        "outputId": "16dccae9-33e6-48be-c3e3-6d87ce3848b2"
      },
      "outputs": [
        {
          "name": "stdout",
          "output_type": "stream",
          "text": [
            "WARNING:tensorflow:From /usr/local/lib/python3.7/dist-packages/tensorflow/python/framework/op_def_library.py:263: colocate_with (from tensorflow.python.framework.ops) is deprecated and will be removed in a future version.\n",
            "Instructions for updating:\n",
            "Colocations handled automatically by placer.\n"
          ]
        }
      ],
      "source": [
        "en_word_emb_matrix = tf.get_variable(\"en_word_emb_matrix\", (VE, 300), dtype=tf.float32)\n",
        "hi_word_emb_matrix = tf.get_variable(\"hi_word_emb_matrix\", (VH, 300), dtype=tf.float32)"
      ]
    },
    {
      "cell_type": "markdown",
      "metadata": {
        "id": "tMpmtKjZ-p_8"
      },
      "source": [
        "#### Placeholders\n",
        "- Input to a tensorflow graph is "
      ]
    },
    {
      "cell_type": "code",
      "execution_count": 18,
      "metadata": {
        "id": "cvXQFnkc-p_8"
      },
      "outputs": [],
      "source": [
        "keep_prob = tf.placeholder(tf.float32)\n",
        "\n",
        "input_ids = tf.placeholder(tf.int32, (None, MAX_SEQ_LEN))\n",
        "input_lens = tf.placeholder(tf.int32, (None, ))\n",
        "\n",
        "ph_target_ids = tf.placeholder(tf.int32, (None, MAX_SEQ_LEN))\n",
        "target_lens = tf.placeholder(tf.int32, (None, ))"
      ]
    },
    {
      "cell_type": "code",
      "execution_count": 19,
      "metadata": {
        "id": "1Wg1eUBE-p_9"
      },
      "outputs": [],
      "source": [
        "# Add SOS or GO symbol\n",
        "target_ids = tf.concat([tf.fill([BATCH_SIZE,1], hi_lang.isos), ph_target_ids], -1)"
      ]
    },
    {
      "cell_type": "code",
      "execution_count": 19,
      "metadata": {
        "id": "IrDwUK7JcPNQ"
      },
      "outputs": [],
      "source": []
    },
    {
      "cell_type": "markdown",
      "metadata": {
        "id": "4sl9N3dl-p_-"
      },
      "source": [
        "#### Building the computation graph"
      ]
    },
    {
      "cell_type": "code",
      "execution_count": 20,
      "metadata": {
        "id": "JLIciOct-qAA"
      },
      "outputs": [],
      "source": [
        "input_emb = tf.nn.embedding_lookup(en_word_emb_matrix, input_ids)\n",
        "target_emb = tf.nn.embedding_lookup(hi_word_emb_matrix, target_ids[:, :-1])"
      ]
    },
    {
      "cell_type": "code",
      "execution_count": 21,
      "metadata": {
        "colab": {
          "base_uri": "https://localhost:8080/"
        },
        "id": "-E0LiD5P-qAB",
        "outputId": "7efe815d-84a4-477d-b01c-dcac0106eed7"
      },
      "outputs": [
        {
          "data": {
            "text/plain": [
              "TensorShape([Dimension(None), Dimension(20), Dimension(300)])"
            ]
          },
          "execution_count": 21,
          "metadata": {
            "tags": []
          },
          "output_type": "execute_result"
        }
      ],
      "source": [
        "input_emb.shape"
      ]
    },
    {
      "cell_type": "markdown",
      "metadata": {
        "id": "cb8ZFzR--qAE"
      },
      "source": [
        "#### Encoder - RNN based sequence encoder"
      ]
    },
    {
      "cell_type": "code",
      "execution_count": 22,
      "metadata": {
        "colab": {
          "base_uri": "https://localhost:8080/"
        },
        "id": "I3zTGVjj-qAF",
        "outputId": "e2ec051e-24cd-4863-c237-eaf28e6fda9d"
      },
      "outputs": [
        {
          "name": "stdout",
          "output_type": "stream",
          "text": [
            "WARNING:tensorflow:From <ipython-input-22-73573fbda69f>:1: GRUCell.__init__ (from tensorflow.python.ops.rnn_cell_impl) is deprecated and will be removed in a future version.\n",
            "Instructions for updating:\n",
            "This class is equivalent as tf.keras.layers.GRUCell, and will be replaced by that in Tensorflow 2.0.\n"
          ]
        }
      ],
      "source": [
        "encoder_cell = tf.nn.rnn_cell.GRUCell(128) # 128 is the dimension of hidden state\n",
        "encoder_cell = DropoutWrapper(encoder_cell, output_keep_prob=keep_prob) # Adding Dropout for regularization"
      ]
    },
    {
      "cell_type": "code",
      "execution_count": 23,
      "metadata": {
        "colab": {
          "base_uri": "https://localhost:8080/"
        },
        "id": "nvra_idf-qAF",
        "outputId": "ecd6c2fb-07ce-4ffa-810c-c2b54ddd8ff3"
      },
      "outputs": [
        {
          "name": "stdout",
          "output_type": "stream",
          "text": [
            "WARNING:tensorflow:From <ipython-input-23-1e698e82f454>:5: dynamic_rnn (from tensorflow.python.ops.rnn) is deprecated and will be removed in a future version.\n",
            "Instructions for updating:\n",
            "Please use `keras.layers.RNN(cell)`, which is equivalent to this API\n",
            "WARNING:tensorflow:From /usr/local/lib/python3.7/dist-packages/tensorflow/python/ops/rnn.py:626: to_int32 (from tensorflow.python.ops.math_ops) is deprecated and will be removed in a future version.\n",
            "Instructions for updating:\n",
            "Use tf.cast instead.\n",
            "WARNING:tensorflow:From /usr/local/lib/python3.7/dist-packages/tensorflow/python/ops/rnn_cell_impl.py:1259: calling dropout (from tensorflow.python.ops.nn_ops) with keep_prob is deprecated and will be removed in a future version.\n",
            "Instructions for updating:\n",
            "Please use `rate` instead of `keep_prob`. Rate should be set to `rate = 1 - keep_prob`.\n"
          ]
        }
      ],
      "source": [
        "enc_outputs, enc_state = tf.nn.dynamic_rnn(\n",
        "    encoder_cell, # The encoder GRU cell\n",
        "    input_emb, # Embedded input sequence\n",
        "    sequence_length=input_lens, # Sequence lengths of individual inputs in a batch\n",
        "    initial_state=encoder_cell.zero_state(BATCH_SIZE, dtype=tf.float32)\n",
        ")"
      ]
    },
    {
      "cell_type": "code",
      "execution_count": 24,
      "metadata": {
        "colab": {
          "base_uri": "https://localhost:8080/"
        },
        "id": "4wVdr048-qAG",
        "outputId": "bb6fcda1-9e63-4d97-c691-f5347bc5bbb4"
      },
      "outputs": [
        {
          "data": {
            "text/plain": [
              "TensorShape([Dimension(64), Dimension(128)])"
            ]
          },
          "execution_count": 24,
          "metadata": {
            "tags": []
          },
          "output_type": "execute_result"
        }
      ],
      "source": [
        "# Confirm the shape of the final hidden state\n",
        "enc_state.shape"
      ]
    },
    {
      "cell_type": "markdown",
      "metadata": {
        "id": "v69fIvS7-qAH"
      },
      "source": [
        "#### Decoder"
      ]
    },
    {
      "cell_type": "code",
      "execution_count": 25,
      "metadata": {
        "id": "WuRnTUM4-qAH"
      },
      "outputs": [],
      "source": [
        "decoder_cell = tf.nn.rnn_cell.GRUCell(128)\n",
        "decoder_cell = DropoutWrapper(decoder_cell, output_keep_prob=keep_prob)"
      ]
    },
    {
      "cell_type": "markdown",
      "metadata": {
        "id": "FPWeDlT0-qAI"
      },
      "source": [
        "#### Decoder to Output Vocab Projection Layer"
      ]
    },
    {
      "cell_type": "code",
      "execution_count": 26,
      "metadata": {
        "id": "WS4NnpVR-qAI"
      },
      "outputs": [],
      "source": [
        "output_projection = tf.layers.Dense(len(hi_lang.word2id))"
      ]
    },
    {
      "cell_type": "markdown",
      "metadata": {
        "id": "Mm5r6NWV-qAI"
      },
      "source": [
        "#### Decoder Training Helper"
      ]
    },
    {
      "cell_type": "code",
      "execution_count": 27,
      "metadata": {
        "id": "cZpPpeFb-qAI"
      },
      "outputs": [],
      "source": [
        "helper = seq2seq.TrainingHelper(target_emb, target_lens)\n",
        "decoder = seq2seq.BasicDecoder(decoder_cell, helper, enc_state, output_projection)\n",
        "outputs, _, outputs_lens = seq2seq.dynamic_decode(decoder, maximum_iterations=MAX_SEQ_LEN, \n",
        "                                                  impute_finished=False, swap_memory=True)\n",
        "output_max_len = tf.reduce_max(outputs_lens)"
      ]
    },
    {
      "cell_type": "markdown",
      "metadata": {
        "id": "mFbeC87s-qAJ"
      },
      "source": [
        "#### And Decoder Inference Helper"
      ]
    },
    {
      "cell_type": "code",
      "execution_count": 28,
      "metadata": {
        "id": "UpDgw9UY-qAJ"
      },
      "outputs": [],
      "source": [
        "# Using the decoder_cell without dropout here.\n",
        "infer_helper = seq2seq.GreedyEmbeddingHelper(hi_word_emb_matrix, tf.fill([BATCH_SIZE, ], hi_lang.isos), hi_lang.ieos)\n",
        "infer_decoder = seq2seq.BasicDecoder(decoder_cell, infer_helper, enc_state, output_projection)\n",
        "infer_output = seq2seq.dynamic_decode(infer_decoder, maximum_iterations=MAX_SEQ_LEN, swap_memory=True)"
      ]
    },
    {
      "cell_type": "markdown",
      "metadata": {
        "id": "qlegDr0k-qAJ"
      },
      "source": [
        "#### Loss and Optimizers"
      ]
    },
    {
      "cell_type": "code",
      "execution_count": 29,
      "metadata": {
        "id": "TlqSpcw2-qAJ"
      },
      "outputs": [],
      "source": [
        "# Sequence mask:\n",
        "# To make sure we don't back-propagate error from output of length positions\n",
        "masks = tf.sequence_mask(target_lens, output_max_len, dtype=tf.float32, name='masks')\n",
        "\n",
        "# Loss function - weighted softmax cross entropy\n",
        "cost = seq2seq.sequence_loss(\n",
        "    outputs[0],\n",
        "    target_ids[:, 1:(output_max_len + 1)],\n",
        "    masks)\n",
        "\n",
        "# Optimizer\n",
        "optimizer = tf.train.AdamOptimizer(0.0001)"
      ]
    },
    {
      "cell_type": "code",
      "execution_count": 30,
      "metadata": {
        "id": "gveZyJXh-qAK"
      },
      "outputs": [],
      "source": [
        "train_op = optimizer.minimize(cost)"
      ]
    },
    {
      "cell_type": "code",
      "execution_count": 31,
      "metadata": {
        "id": "JDD8GLx_-qAL"
      },
      "outputs": [],
      "source": [
        "init = tf.global_variables_initializer()"
      ]
    },
    {
      "cell_type": "code",
      "execution_count": 31,
      "metadata": {
        "id": "HvoNxABjeMq_"
      },
      "outputs": [],
      "source": []
    },
    {
      "cell_type": "markdown",
      "metadata": {
        "id": "mr1wJdHn-qAL"
      },
      "source": [
        "#### Tensorflow Sessions"
      ]
    },
    {
      "cell_type": "code",
      "execution_count": 32,
      "metadata": {
        "id": "RffeKeCU-qAL"
      },
      "outputs": [],
      "source": [
        "sess_config = tf.ConfigProto()\n",
        "sess_config.gpu_options.allow_growth = True"
      ]
    },
    {
      "cell_type": "code",
      "execution_count": 33,
      "metadata": {
        "id": "Boe-HZg8-qAM"
      },
      "outputs": [],
      "source": [
        "sess = tf.InteractiveSession(config=sess_config)\n",
        "sess.run(init)"
      ]
    },
    {
      "cell_type": "markdown",
      "metadata": {
        "id": "1bSzhV2g-qAM"
      },
      "source": [
        "#### Minibatch Training + Validation\n",
        "- Performance Evaluation using BLEU scores"
      ]
    },
    {
      "cell_type": "code",
      "execution_count": 34,
      "metadata": {
        "id": "1vITOTeN-qAM"
      },
      "outputs": [],
      "source": [
        "random.seed(41)"
      ]
    },
    {
      "cell_type": "code",
      "execution_count": 35,
      "metadata": {
        "id": "AGbx9gXI-qAN"
      },
      "outputs": [],
      "source": [
        "parallel = list(zip(en_sentences, hi_sentences))"
      ]
    },
    {
      "cell_type": "code",
      "execution_count": 36,
      "metadata": {
        "id": "1BMkUgMI-qAN"
      },
      "outputs": [],
      "source": [
        "random.shuffle(parallel)"
      ]
    },
    {
      "cell_type": "code",
      "execution_count": 37,
      "metadata": {
        "colab": {
          "base_uri": "https://localhost:8080/"
        },
        "id": "AkJdHUIc-qAN",
        "outputId": "d412165a-74c3-4084-f44f-1fed26716b75"
      },
      "outputs": [
        {
          "data": {
            "text/plain": [
              "('kijiyega', 'कीजियेगा')"
            ]
          },
          "execution_count": 37,
          "metadata": {
            "tags": []
          },
          "output_type": "execute_result"
        }
      ],
      "source": [
        "parallel[123]"
      ]
    },
    {
      "cell_type": "code",
      "execution_count": 38,
      "metadata": {
        "id": "Dh2jyRzx-qAO"
      },
      "outputs": [],
      "source": [
        "train_n = int(0.95*N)\n",
        "valid_n = N - train_n"
      ]
    },
    {
      "cell_type": "code",
      "execution_count": 39,
      "metadata": {
        "id": "cLXlwlqI-qAP"
      },
      "outputs": [],
      "source": [
        "train_pairs = parallel[:train_n].copy()\n",
        "valid_pairs = parallel[train_n:]"
      ]
    },
    {
      "cell_type": "code",
      "execution_count": 40,
      "metadata": {
        "id": "NFLKr0Gd-qAS"
      },
      "outputs": [],
      "source": [
        "def small_test():\n",
        "    all_bleu = []\n",
        "    smoothing = nltk.translate.bleu_score.SmoothingFunction().method7\n",
        "    for m in range(0, valid_n, BATCH_SIZE):\n",
        "        # print(f\"Status: {m}/{N}\", end='\\r')\n",
        "        n = m + BATCH_SIZE\n",
        "        if n > valid_n:\n",
        "            # print(\"Epoch Complete...\")\n",
        "            break\n",
        "\n",
        "        input_batch = np.zeros((BATCH_SIZE, MAX_SEQ_LEN), dtype=np.int32)\n",
        "        input_lens_batch = np.zeros((BATCH_SIZE,), dtype=np.int32)\n",
        "        for i in range(m, n):\n",
        "            b,a = en_lang.encodeSentence2(valid_pairs[i][0], MAX_SEQ_LEN)\n",
        "            input_batch[i-m,:] = a\n",
        "            input_lens_batch[i-m] = b\n",
        "\n",
        "    #     target_batch = np.zeros((BATCH_SIZE, MAX_SEQ_LEN), dtype=np.int32)\n",
        "    #     target_lens_batch = np.zeros((BATCH_SIZE,), dtype=np.int32)\n",
        "    #     for i in range(m, n):\n",
        "    #         b,a = hi_lang.encodeSentence2(valid_pairs[i][1], MAX_SEQ_LEN)\n",
        "    #         target_batch[i-m,:] = a\n",
        "    #         target_lens_batch[i-m] = b\n",
        "\n",
        "        feed_dict={\n",
        "            input_ids: input_batch,\n",
        "            input_lens: input_lens_batch,\n",
        "            #target_ids: target_batch,\n",
        "            #target_lens: target_lens_batch,\n",
        "            keep_prob: 1.0\n",
        "        }\n",
        "        pred_batch = sess.run(infer_output[0].sample_id, feed_dict=feed_dict)\n",
        "        for k, pred_ in enumerate(pred_batch):\n",
        "            pred_s = hi_lang.decodeSentence(list(pred_))\n",
        "            ref = valid_pairs[m+k][1]\n",
        "            try:\n",
        "                _bx = nltk.translate.bleu_score.sentence_bleu(\n",
        "                    [ref],\n",
        "                    pred_s,\n",
        "                    weights=[1/4]*4,\n",
        "                    smoothing_function=smoothing)\n",
        "            except ZeroDivisionError:\n",
        "                _bx = 0\n",
        "            all_bleu.append(_bx)\n",
        "\n",
        "    print(f\"BLEU Score: {np.mean(all_bleu)}\")"
      ]
    },
    {
      "cell_type": "code",
      "execution_count": 41,
      "metadata": {
        "colab": {
          "base_uri": "https://localhost:8080/",
          "height": 1000,
          "referenced_widgets": [
            "1c99fccda7454d77ba8f2a775dca98b8",
            "9a35673c7f814c7ba69ef37ec8df8e2e",
            "38a33c895d8b4ce9b9329e6d854e6727",
            "c6511c4b930c48268e4aa8fbf93b47c1",
            "c863c2e7ec454ea1a929bc926bf0b493",
            "755974f7133045d2983312d1d984db09",
            "d0fc3fb4eac34345aa518a3de3db97b9",
            "1122b35e0a724376ad26845d5820c2f4",
            "4199a7685f1e46f4ac54265b775bacf4",
            "56e54407f0f74aa398d58d60a3f7c82d",
            "3642e7e111324e8a973d8a113de92236",
            "0b774a8d14a24b01881a636c538e7d2f",
            "b8b2fc68eb5049f18307403278289b2c",
            "1538376557844b8581e7fcc5e7f36a5c",
            "574526279c9a4cb4a5359e53f99c00ec",
            "80bf922f1f554c089d5889fe4b33c4ad",
            "cf073c237e9c491cbf1e77afdfb128a2",
            "507e5be634b64d81a8d0a77c1a27a7ac",
            "625f92b58ece4412aef4acece6c808ef",
            "09493b2c48dd45acbcc49eb7be593b6b",
            "313b7c52c06d4212a4d9af31c8314649",
            "fd045bdde79a47e4a8840904e20ba8ec",
            "be09d8af79204b48ae10fd2eda64603b",
            "bdeb78a328574833bd11d89541097c06",
            "3ed49c96dff74fc8b18fcbbb0c42668d",
            "8e4dc4d7df274cc2a1cb7dace246633f",
            "6c31e0da56e24175a0dacfd962e3ecd1",
            "9d8aef058f34419b9f8ce2969960999c",
            "44bdc33c2cdc4a37aa70ee70dd9b7378",
            "62616d59d33a49dfa6a4177f89182976",
            "27ab6771041b4aa6bc28cbbf3160f465",
            "2caf2558f1e547a5bbc017f8c49f6d19",
            "6986036cd9654238850621ab6af9abd7",
            "22f1cb9f844c4e3ca6a319360720ff12",
            "8a081820a10e418f8818fddfec96f46a",
            "2c41baac2e434c689c4a538a9ccd2d7e",
            "0064851faefe42848701f4d718230083",
            "b2146f7eeff74ec7957ea404e3d613fa",
            "c69247dc2e35458c9f0d840ab7bb5d10",
            "235bddd9624a4d67853fe137ebeae4aa",
            "44f12de53ea84aa79e83b2a69ccda119",
            "3abff1fb6f6144409a90b78ce07c4e65",
            "2c0440506f234d22a6c780a9cad0d585",
            "0439629669c94669aeef45f665dfbf68",
            "6a3f47d620da4402ab8f981bd6bb87b5",
            "5d689f33280a447f879f6f92f6c75f90",
            "3e6d54c3b82243de999136fab997cb2d",
            "865db03744a94bfc950738cf27db4447",
            "1f19024dbe77446391169aa149a7bcce",
            "0db29f42397b48d29d43d97cfeeff437",
            "43c4c514fc4b47baa1677e7ac1989a28",
            "09b4f896af01456096d38b6cce861640",
            "98c132cb7da04fc9a18a6e5119bde941",
            "225766f5465543bf9e14f548d735956d",
            "60acf60ca4864fe3940e56acf89c51a3",
            "dfefd7791a2544b2a2e125b28c8b6018",
            "8415db0a6dac4f4f8d95045017ca9a8b",
            "84ded14ead764d91aeefe861e5da61f1",
            "c8dd54a82076499f8287dd8f0e2c5884",
            "4a5f867834fc4df48fca594fe5609663",
            "39a89860f3744f629e1fbd4f0b0573e1",
            "eca7457948f9472b9bbc47a1eca58660",
            "468b5ba885e246f7922328ca6b2aa2fd",
            "60d2319f5d3c41359a6354a60ac07a40",
            "58a9fda6a7f04e9f8b02c53bf58adcf0",
            "55e46be779e84e91a8dbd875979ede9e",
            "22991e5916574901ac4d5f89894849ea",
            "192c0ae96ac2432a8cd9e7b159c17619",
            "13deca22c0aa4a998a3e568b64811df0",
            "fec599cdfa53482db8140609b745c261",
            "a13f89195203416187c24a6fb7b2592e",
            "ce257333d153427295777520362ccd05",
            "e3f0bf6f5454460d9618e0136a636c67",
            "279cc177a5384399a902d3551e1bb1b5",
            "0110db568ad64fbcb90c952068343ef8",
            "69e19db96d474296951caa1c5f3a7fd0",
            "def35a26db46422782379d1adeb8507d",
            "d86601402e8b40609d1d46cbb39a0f50",
            "61437abab24541809fb4eb9aede6e8a2",
            "3e3ee6cbb0e14d029dc8b3c6b340674f"
          ]
        },
        "id": "37zQsNcN-qAU",
        "outputId": "e77f9b19-b629-4075-e401-13d3ecc3e2b9",
        "scrolled": true
      },
      "outputs": [
        {
          "name": "stderr",
          "output_type": "stream",
          "text": [
            "/usr/local/lib/python3.7/dist-packages/ipykernel_launcher.py:4: TqdmDeprecationWarning: This function will be removed in tqdm==5.0.0\n",
            "Please use `tqdm.notebook.tqdm` instead of `tqdm.tqdm_notebook`\n",
            "  after removing the cwd from sys.path.\n"
          ]
        },
        {
          "data": {
            "application/vnd.jupyter.widget-view+json": {
              "model_id": "1c99fccda7454d77ba8f2a775dca98b8",
              "version_major": 2,
              "version_minor": 0
            },
            "text/plain": [
              "HBox(children=(FloatProgress(value=0.0, max=458.0), HTML(value='')))"
            ]
          },
          "metadata": {
            "tags": []
          },
          "output_type": "display_data"
        },
        {
          "name": "stdout",
          "output_type": "stream",
          "text": [
            "BLEU Score: 0.0\n",
            "BLEU Score: 0.06838558288235048\n",
            "BLEU Score: 0.10599391144344654\n",
            "BLEU Score: 0.134205212864294\n",
            "\n"
          ]
        },
        {
          "data": {
            "application/vnd.jupyter.widget-view+json": {
              "model_id": "4199a7685f1e46f4ac54265b775bacf4",
              "version_major": 2,
              "version_minor": 0
            },
            "text/plain": [
              "HBox(children=(FloatProgress(value=0.0, max=458.0), HTML(value='')))"
            ]
          },
          "metadata": {
            "tags": []
          },
          "output_type": "display_data"
        },
        {
          "name": "stdout",
          "output_type": "stream",
          "text": [
            "BLEU Score: 0.18399427636824583\n",
            "BLEU Score: 0.21232150718085682\n",
            "BLEU Score: 0.22985928735986186\n",
            "BLEU Score: 0.24334757012334626\n",
            "\n"
          ]
        },
        {
          "data": {
            "application/vnd.jupyter.widget-view+json": {
              "model_id": "cf073c237e9c491cbf1e77afdfb128a2",
              "version_major": 2,
              "version_minor": 0
            },
            "text/plain": [
              "HBox(children=(FloatProgress(value=0.0, max=458.0), HTML(value='')))"
            ]
          },
          "metadata": {
            "tags": []
          },
          "output_type": "display_data"
        },
        {
          "name": "stdout",
          "output_type": "stream",
          "text": [
            "BLEU Score: 0.26880910760111143\n",
            "BLEU Score: 0.2731656796942811\n",
            "BLEU Score: 0.2847091788019427\n",
            "BLEU Score: 0.29270622406059055\n",
            "\n"
          ]
        },
        {
          "data": {
            "application/vnd.jupyter.widget-view+json": {
              "model_id": "3ed49c96dff74fc8b18fcbbb0c42668d",
              "version_major": 2,
              "version_minor": 0
            },
            "text/plain": [
              "HBox(children=(FloatProgress(value=0.0, max=458.0), HTML(value='')))"
            ]
          },
          "metadata": {
            "tags": []
          },
          "output_type": "display_data"
        },
        {
          "name": "stdout",
          "output_type": "stream",
          "text": [
            "BLEU Score: 0.30116652369085845\n",
            "BLEU Score: 0.3097188066009022\n",
            "BLEU Score: 0.3132556994869862\n",
            "BLEU Score: 0.31475088109802446\n",
            "\n"
          ]
        },
        {
          "data": {
            "application/vnd.jupyter.widget-view+json": {
              "model_id": "6986036cd9654238850621ab6af9abd7",
              "version_major": 2,
              "version_minor": 0
            },
            "text/plain": [
              "HBox(children=(FloatProgress(value=0.0, max=458.0), HTML(value='')))"
            ]
          },
          "metadata": {
            "tags": []
          },
          "output_type": "display_data"
        },
        {
          "name": "stdout",
          "output_type": "stream",
          "text": [
            "BLEU Score: 0.3253125794327763\n",
            "BLEU Score: 0.32830916376859837\n",
            "BLEU Score: 0.33483066844364745\n",
            "BLEU Score: 0.33961109367871717\n",
            "\n"
          ]
        },
        {
          "data": {
            "application/vnd.jupyter.widget-view+json": {
              "model_id": "44f12de53ea84aa79e83b2a69ccda119",
              "version_major": 2,
              "version_minor": 0
            },
            "text/plain": [
              "HBox(children=(FloatProgress(value=0.0, max=458.0), HTML(value='')))"
            ]
          },
          "metadata": {
            "tags": []
          },
          "output_type": "display_data"
        },
        {
          "name": "stdout",
          "output_type": "stream",
          "text": [
            "BLEU Score: 0.34218557429139446\n",
            "BLEU Score: 0.35365306744227637\n",
            "BLEU Score: 0.35973911168531264\n",
            "BLEU Score: 0.3622143874721217\n",
            "\n"
          ]
        },
        {
          "data": {
            "application/vnd.jupyter.widget-view+json": {
              "model_id": "1f19024dbe77446391169aa149a7bcce",
              "version_major": 2,
              "version_minor": 0
            },
            "text/plain": [
              "HBox(children=(FloatProgress(value=0.0, max=458.0), HTML(value='')))"
            ]
          },
          "metadata": {
            "tags": []
          },
          "output_type": "display_data"
        },
        {
          "name": "stdout",
          "output_type": "stream",
          "text": [
            "BLEU Score: 0.3644332815251898\n",
            "BLEU Score: 0.37224316388202555\n",
            "BLEU Score: 0.3774720615204538\n",
            "BLEU Score: 0.3871267228911461\n",
            "\n"
          ]
        },
        {
          "data": {
            "application/vnd.jupyter.widget-view+json": {
              "model_id": "8415db0a6dac4f4f8d95045017ca9a8b",
              "version_major": 2,
              "version_minor": 0
            },
            "text/plain": [
              "HBox(children=(FloatProgress(value=0.0, max=458.0), HTML(value='')))"
            ]
          },
          "metadata": {
            "tags": []
          },
          "output_type": "display_data"
        },
        {
          "name": "stdout",
          "output_type": "stream",
          "text": [
            "BLEU Score: 0.39626761545062933\n",
            "BLEU Score: 0.3976882221683209\n",
            "BLEU Score: 0.4034818756427811\n",
            "BLEU Score: 0.4083851704005243\n",
            "\n"
          ]
        },
        {
          "data": {
            "application/vnd.jupyter.widget-view+json": {
              "model_id": "58a9fda6a7f04e9f8b02c53bf58adcf0",
              "version_major": 2,
              "version_minor": 0
            },
            "text/plain": [
              "HBox(children=(FloatProgress(value=0.0, max=458.0), HTML(value='')))"
            ]
          },
          "metadata": {
            "tags": []
          },
          "output_type": "display_data"
        },
        {
          "name": "stdout",
          "output_type": "stream",
          "text": [
            "BLEU Score: 0.41448196777220253\n",
            "BLEU Score: 0.42418853958577135\n",
            "BLEU Score: 0.4352989669542479\n",
            "BLEU Score: 0.4342613488648752\n",
            "\n"
          ]
        },
        {
          "data": {
            "application/vnd.jupyter.widget-view+json": {
              "model_id": "e3f0bf6f5454460d9618e0136a636c67",
              "version_major": 2,
              "version_minor": 0
            },
            "text/plain": [
              "HBox(children=(FloatProgress(value=0.0, max=458.0), HTML(value='')))"
            ]
          },
          "metadata": {
            "tags": []
          },
          "output_type": "display_data"
        },
        {
          "name": "stdout",
          "output_type": "stream",
          "text": [
            "BLEU Score: 0.4488719948349764\n",
            "BLEU Score: 0.44732904479517693\n",
            "BLEU Score: 0.45101506244910533\n",
            "BLEU Score: 0.46417481166995495\n",
            "\n"
          ]
        }
      ],
      "source": [
        "for _e in range(10):\n",
        "    # Mix things up a bit.\n",
        "    random.shuffle(train_pairs)\n",
        "    pbar = tqdm_notebook(range(0, train_n, BATCH_SIZE))\n",
        "    batch_loss = 0\n",
        "    bxi = 0\n",
        "    for m in pbar:\n",
        "        n = m + BATCH_SIZE\n",
        "        if n <= train_n:\n",
        "            # print(\"Epoch Complete... \\n\")\n",
        "\n",
        "            input_batch = np.zeros((BATCH_SIZE, MAX_SEQ_LEN), dtype=np.int32)\n",
        "            input_lens_batch = np.zeros((BATCH_SIZE,), dtype=np.int32)\n",
        "            for i in range(m, n):\n",
        "                b,a = en_lang.encodeSentence2(train_pairs[i][0], MAX_SEQ_LEN)\n",
        "                input_batch[i-m,:] = a\n",
        "                input_lens_batch[i-m] = b\n",
        "\n",
        "            target_batch = np.zeros((BATCH_SIZE, MAX_SEQ_LEN), dtype=np.int32)\n",
        "            target_lens_batch = np.zeros((BATCH_SIZE,), dtype=np.int32)\n",
        "            for i in range(m, n):\n",
        "                b,a = hi_lang.encodeSentence2(train_pairs[i][1], MAX_SEQ_LEN)\n",
        "                target_batch[i-m,:] = a\n",
        "                target_lens_batch[i-m] = b\n",
        "\n",
        "            feed_dict={\n",
        "                input_ids: input_batch,\n",
        "                input_lens: input_lens_batch,\n",
        "                ph_target_ids: target_batch,\n",
        "                target_lens: target_lens_batch,\n",
        "                keep_prob: 0.8 \n",
        "            }\n",
        "            sess.run(train_op, feed_dict=feed_dict)\n",
        "            batch_loss += sess.run(cost, feed_dict=feed_dict)\n",
        "            pbar.set_description(f\"Epoch: {_e} >> Loss: {batch_loss/(bxi+1):2.2F}:\")\n",
        "            bxi += 1\n",
        "            if (1 + n//BATCH_SIZE) % 100 == 0:\n",
        "                small_test()"
      ]
    },
    {
      "cell_type": "code",
      "execution_count": 42,
      "metadata": {
        "id": "jCB0-tWzC6aH"
      },
      "outputs": [],
      "source": [
        "#saver = tf.train.Saver()\n"
      ]
    },
    {
      "cell_type": "code",
      "execution_count": 43,
      "metadata": {
        "colab": {
          "base_uri": "https://localhost:8080/",
          "height": 36
        },
        "id": "TNDFUtNCTQHF",
        "outputId": "4695e9ec-4b5a-4372-99f6-8bb39a58aa3a"
      },
      "outputs": [
        {
          "data": {
            "application/vnd.google.colaboratory.intrinsic+json": {
              "type": "string"
            },
            "text/plain": [
              "\"sess = tf.Session()\\nsess.run(tf.global_variables_initializer())\\nsaver.save(sess, 'my_test_model')\""
            ]
          },
          "execution_count": 43,
          "metadata": {
            "tags": []
          },
          "output_type": "execute_result"
        }
      ],
      "source": [
        "'''sess = tf.Session()\n",
        "sess.run(tf.global_variables_initializer())\n",
        "saver.save(sess, 'my_test_model')'''"
      ]
    },
    {
      "cell_type": "code",
      "execution_count": 44,
      "metadata": {
        "colab": {
          "base_uri": "https://localhost:8080/",
          "height": 107
        },
        "id": "g4Qc3ac_W5be",
        "outputId": "5c91f5fb-0131-4f4a-fa8e-911c1073d3ff"
      },
      "outputs": [
        {
          "data": {
            "application/vnd.google.colaboratory.intrinsic+json": {
              "type": "string"
            },
            "text/plain": [
              "'sess=tf.Session()    \\n#First let\\'s load meta graph and restore weights\\nsaver = tf.train.import_meta_graph(\\'my_test_model.meta\\')\\nsaver.restore(sess,tf.train.latest_checkpoint(\\'./\\'))\\nprint(\"Model restored.\")    \\n\\ngraph = tf.get_default_graph()\\n\\n\\ninput_batch = np.zeros((BATCH_SIZE, MAX_SEQ_LEN), dtype=np.int32)\\ninput_lens_batch = np.zeros((BATCH_SIZE,), dtype=np.int32)\\nb,a = en_lang.encodeSentence2(\\'raama\\', MAX_SEQ_LEN)\\ninput_batch[0, :] = a\\ninput_lens_batch[0] = b\\n\\nfeed_dict={\\n    input_ids: input_batch,\\n    input_lens: input_lens_batch,\\n    #target_ids: target_batch,\\n    #target_lens: target_lens_batch,\\n    keep_prob: 1.0\\n}\\n\\n\\ntf.local_variables_initializer().run()\\n\\npred_batch = sess.run(infer_output[0].sample_id, feed_dict=feed_dict)\\npred_ = pred_batch[0]\\npred_s = hi_lang.decodeSentence(list(pred_))\\n# ref = valid_pairs[m+k][1]\\nprint(pred_s)'"
            ]
          },
          "execution_count": 44,
          "metadata": {
            "tags": []
          },
          "output_type": "execute_result"
        }
      ],
      "source": [
        "'''sess=tf.Session()    \n",
        "#First let's load meta graph and restore weights\n",
        "saver = tf.train.import_meta_graph('my_test_model.meta')\n",
        "saver.restore(sess,tf.train.latest_checkpoint('./'))\n",
        "print(\"Model restored.\")    \n",
        "\n",
        "graph = tf.get_default_graph()\n",
        "\n",
        "\n",
        "input_batch = np.zeros((BATCH_SIZE, MAX_SEQ_LEN), dtype=np.int32)\n",
        "input_lens_batch = np.zeros((BATCH_SIZE,), dtype=np.int32)\n",
        "b,a = en_lang.encodeSentence2('raama', MAX_SEQ_LEN)\n",
        "input_batch[0, :] = a\n",
        "input_lens_batch[0] = b\n",
        "\n",
        "feed_dict={\n",
        "    input_ids: input_batch,\n",
        "    input_lens: input_lens_batch,\n",
        "    #target_ids: target_batch,\n",
        "    #target_lens: target_lens_batch,\n",
        "    keep_prob: 1.0\n",
        "}\n",
        "\n",
        "\n",
        "tf.local_variables_initializer().run()\n",
        "\n",
        "pred_batch = sess.run(infer_output[0].sample_id, feed_dict=feed_dict)\n",
        "pred_ = pred_batch[0]\n",
        "pred_s = hi_lang.decodeSentence(list(pred_))\n",
        "# ref = valid_pairs[m+k][1]\n",
        "print(pred_s)'''"
      ]
    },
    {
      "cell_type": "code",
      "execution_count": 45,
      "metadata": {
        "colab": {
          "base_uri": "https://localhost:8080/"
        },
        "id": "Yy2iubBOW9In",
        "outputId": "70ac027f-457f-4b64-d429-67230fee7868"
      },
      "outputs": [
        {
          "name": "stdout",
          "output_type": "stream",
          "text": [
            "रामा\n"
          ]
        }
      ],
      "source": [
        "input_batch = np.zeros((BATCH_SIZE, MAX_SEQ_LEN), dtype=np.int32)\n",
        "input_lens_batch = np.zeros((BATCH_SIZE,), dtype=np.int32)\n",
        "b,a = en_lang.encodeSentence2('raama', MAX_SEQ_LEN)\n",
        "input_batch[0, :] = a\n",
        "input_lens_batch[0] = b\n",
        "\n",
        "feed_dict={\n",
        "    input_ids: input_batch,\n",
        "    input_lens: input_lens_batch,\n",
        "    #target_ids: target_batch,\n",
        "    #target_lens: target_lens_batch,\n",
        "    keep_prob: 1.0\n",
        "}\n",
        "pred_batch = sess.run(infer_output[0].sample_id, feed_dict=feed_dict)\n",
        "pred_ = pred_batch[0]\n",
        "pred_s = hi_lang.decodeSentence(list(pred_))\n",
        "# ref = valid_pairs[m+k][1]\n",
        "print(pred_s)"
      ]
    },
    {
      "cell_type": "markdown",
      "metadata": {
        "id": "z1YLWP21-qAV"
      },
      "source": [
        "### Let's see some real translation examples now!"
      ]
    },
    {
      "cell_type": "code",
      "execution_count": 46,
      "metadata": {
        "id": "ySxOHKym-qAW"
      },
      "outputs": [],
      "source": [
        "def transliterate(s):\n",
        "  \n",
        "      input_batch = np.zeros((BATCH_SIZE, MAX_SEQ_LEN), dtype=np.int32)\n",
        "      input_lens_batch = np.zeros((BATCH_SIZE,), dtype=np.int32)\n",
        "      b,a = en_lang.encodeSentence2(s, MAX_SEQ_LEN)\n",
        "      input_batch[0, :] = a\n",
        "      input_lens_batch[0] = b\n",
        "      \n",
        "      feed_dict={\n",
        "          input_ids: input_batch,\n",
        "          input_lens: input_lens_batch,\n",
        "          #target_ids: target_batch,\n",
        "          #target_lens: target_lens_batch,\n",
        "          keep_prob: 1.0\n",
        "      }\n",
        "      pred_batch = sess.run(infer_output[0].sample_id, feed_dict=feed_dict)\n",
        "      pred_ = pred_batch[0]\n",
        "      pred_s = hi_lang.decodeSentence(list(pred_))\n",
        "      # ref = valid_pairs[m+k][1]\n",
        "      return pred_s"
      ]
    }
  ],
  "metadata": {
    "colab": {
      "collapsed_sections": [],
      "name": "Transliteration and Translation.ipynb",
      "provenance": []
    },
    "kernelspec": {
      "display_name": "Python 3",
      "name": "python3"
    },
    "language_info": {
      "name": "python"
    },
    "toc": {
      "base_numbering": 1,
      "nav_menu": {},
      "number_sections": true,
      "sideBar": true,
      "skip_h1_title": false,
      "title_cell": "Table of Contents",
      "title_sidebar": "Contents",
      "toc_cell": false,
      "toc_position": {
        "height": "calc(100% - 180px)",
        "left": "10px",
        "top": "150px",
        "width": "320px"
      },
      "toc_section_display": true,
      "toc_window_display": true
    },
    "widgets": {
      "application/vnd.jupyter.widget-state+json": {
        "0064851faefe42848701f4d718230083": {
          "model_module": "@jupyter-widgets/controls",
          "model_name": "ProgressStyleModel",
          "state": {
            "_model_module": "@jupyter-widgets/controls",
            "_model_module_version": "1.5.0",
            "_model_name": "ProgressStyleModel",
            "_view_count": null,
            "_view_module": "@jupyter-widgets/base",
            "_view_module_version": "1.2.0",
            "_view_name": "StyleView",
            "bar_color": null,
            "description_width": "initial"
          }
        },
        "0110db568ad64fbcb90c952068343ef8": {
          "model_module": "@jupyter-widgets/controls",
          "model_name": "FloatProgressModel",
          "state": {
            "_dom_classes": [],
            "_model_module": "@jupyter-widgets/controls",
            "_model_module_version": "1.5.0",
            "_model_name": "FloatProgressModel",
            "_view_count": null,
            "_view_module": "@jupyter-widgets/controls",
            "_view_module_version": "1.5.0",
            "_view_name": "ProgressView",
            "bar_style": "success",
            "description": "Epoch: 9 &gt;&gt; Loss: 1.03:: 100%",
            "description_tooltip": null,
            "layout": "IPY_MODEL_d86601402e8b40609d1d46cbb39a0f50",
            "max": 458,
            "min": 0,
            "orientation": "horizontal",
            "style": "IPY_MODEL_def35a26db46422782379d1adeb8507d",
            "value": 458
          }
        },
        "0439629669c94669aeef45f665dfbf68": {
          "model_module": "@jupyter-widgets/controls",
          "model_name": "HTMLModel",
          "state": {
            "_dom_classes": [],
            "_model_module": "@jupyter-widgets/controls",
            "_model_module_version": "1.5.0",
            "_model_name": "HTMLModel",
            "_view_count": null,
            "_view_module": "@jupyter-widgets/controls",
            "_view_module_version": "1.5.0",
            "_view_name": "HTMLView",
            "description": "",
            "description_tooltip": null,
            "layout": "IPY_MODEL_865db03744a94bfc950738cf27db4447",
            "placeholder": "​",
            "style": "IPY_MODEL_3e6d54c3b82243de999136fab997cb2d",
            "value": " 458/458 [03:01&lt;00:00,  2.52it/s]"
          }
        },
        "09493b2c48dd45acbcc49eb7be593b6b": {
          "model_module": "@jupyter-widgets/controls",
          "model_name": "HTMLModel",
          "state": {
            "_dom_classes": [],
            "_model_module": "@jupyter-widgets/controls",
            "_model_module_version": "1.5.0",
            "_model_name": "HTMLModel",
            "_view_count": null,
            "_view_module": "@jupyter-widgets/controls",
            "_view_module_version": "1.5.0",
            "_view_name": "HTMLView",
            "description": "",
            "description_tooltip": null,
            "layout": "IPY_MODEL_bdeb78a328574833bd11d89541097c06",
            "placeholder": "​",
            "style": "IPY_MODEL_be09d8af79204b48ae10fd2eda64603b",
            "value": " 458/458 [02:54&lt;00:00,  2.63it/s]"
          }
        },
        "09b4f896af01456096d38b6cce861640": {
          "model_module": "@jupyter-widgets/controls",
          "model_name": "HTMLModel",
          "state": {
            "_dom_classes": [],
            "_model_module": "@jupyter-widgets/controls",
            "_model_module_version": "1.5.0",
            "_model_name": "HTMLModel",
            "_view_count": null,
            "_view_module": "@jupyter-widgets/controls",
            "_view_module_version": "1.5.0",
            "_view_name": "HTMLView",
            "description": "",
            "description_tooltip": null,
            "layout": "IPY_MODEL_dfefd7791a2544b2a2e125b28c8b6018",
            "placeholder": "​",
            "style": "IPY_MODEL_60acf60ca4864fe3940e56acf89c51a3",
            "value": " 458/458 [02:00&lt;00:00,  3.79it/s]"
          }
        },
        "0b774a8d14a24b01881a636c538e7d2f": {
          "model_module": "@jupyter-widgets/controls",
          "model_name": "HTMLModel",
          "state": {
            "_dom_classes": [],
            "_model_module": "@jupyter-widgets/controls",
            "_model_module_version": "1.5.0",
            "_model_name": "HTMLModel",
            "_view_count": null,
            "_view_module": "@jupyter-widgets/controls",
            "_view_module_version": "1.5.0",
            "_view_name": "HTMLView",
            "description": "",
            "description_tooltip": null,
            "layout": "IPY_MODEL_80bf922f1f554c089d5889fe4b33c4ad",
            "placeholder": "​",
            "style": "IPY_MODEL_574526279c9a4cb4a5359e53f99c00ec",
            "value": " 458/458 [07:00&lt;00:00,  1.09it/s]"
          }
        },
        "0d20ec252dd2451ea73ec2f3d1b74cc9": {
          "model_module": "@jupyter-widgets/controls",
          "model_name": "FloatProgressModel",
          "state": {
            "_dom_classes": [],
            "_model_module": "@jupyter-widgets/controls",
            "_model_module_version": "1.5.0",
            "_model_name": "FloatProgressModel",
            "_view_count": null,
            "_view_module": "@jupyter-widgets/controls",
            "_view_module_version": "1.5.0",
            "_view_name": "ProgressView",
            "bar_style": "success",
            "description": "Processing inputs:: 100%",
            "description_tooltip": null,
            "layout": "IPY_MODEL_72488114ad8147eba05312837f6ba1d5",
            "max": 30823,
            "min": 0,
            "orientation": "horizontal",
            "style": "IPY_MODEL_591343ffec8c468bad0ab08d0dfb7e3d",
            "value": 30823
          }
        },
        "0db29f42397b48d29d43d97cfeeff437": {
          "model_module": "@jupyter-widgets/base",
          "model_name": "LayoutModel",
          "state": {
            "_model_module": "@jupyter-widgets/base",
            "_model_module_version": "1.2.0",
            "_model_name": "LayoutModel",
            "_view_count": null,
            "_view_module": "@jupyter-widgets/base",
            "_view_module_version": "1.2.0",
            "_view_name": "LayoutView",
            "align_content": null,
            "align_items": null,
            "align_self": null,
            "border": null,
            "bottom": null,
            "display": null,
            "flex": null,
            "flex_flow": null,
            "grid_area": null,
            "grid_auto_columns": null,
            "grid_auto_flow": null,
            "grid_auto_rows": null,
            "grid_column": null,
            "grid_gap": null,
            "grid_row": null,
            "grid_template_areas": null,
            "grid_template_columns": null,
            "grid_template_rows": null,
            "height": null,
            "justify_content": null,
            "justify_items": null,
            "left": null,
            "margin": null,
            "max_height": null,
            "max_width": null,
            "min_height": null,
            "min_width": null,
            "object_fit": null,
            "object_position": null,
            "order": null,
            "overflow": null,
            "overflow_x": null,
            "overflow_y": null,
            "padding": null,
            "right": null,
            "top": null,
            "visibility": null,
            "width": null
          }
        },
        "0f539f2e275c47c88d2e44a332894df3": {
          "model_module": "@jupyter-widgets/controls",
          "model_name": "DescriptionStyleModel",
          "state": {
            "_model_module": "@jupyter-widgets/controls",
            "_model_module_version": "1.5.0",
            "_model_name": "DescriptionStyleModel",
            "_view_count": null,
            "_view_module": "@jupyter-widgets/base",
            "_view_module_version": "1.2.0",
            "_view_name": "StyleView",
            "description_width": ""
          }
        },
        "1076c4135e404c4695d4413a84095c72": {
          "model_module": "@jupyter-widgets/base",
          "model_name": "LayoutModel",
          "state": {
            "_model_module": "@jupyter-widgets/base",
            "_model_module_version": "1.2.0",
            "_model_name": "LayoutModel",
            "_view_count": null,
            "_view_module": "@jupyter-widgets/base",
            "_view_module_version": "1.2.0",
            "_view_name": "LayoutView",
            "align_content": null,
            "align_items": null,
            "align_self": null,
            "border": null,
            "bottom": null,
            "display": null,
            "flex": null,
            "flex_flow": null,
            "grid_area": null,
            "grid_auto_columns": null,
            "grid_auto_flow": null,
            "grid_auto_rows": null,
            "grid_column": null,
            "grid_gap": null,
            "grid_row": null,
            "grid_template_areas": null,
            "grid_template_columns": null,
            "grid_template_rows": null,
            "height": null,
            "justify_content": null,
            "justify_items": null,
            "left": null,
            "margin": null,
            "max_height": null,
            "max_width": null,
            "min_height": null,
            "min_width": null,
            "object_fit": null,
            "object_position": null,
            "order": null,
            "overflow": null,
            "overflow_x": null,
            "overflow_y": null,
            "padding": null,
            "right": null,
            "top": null,
            "visibility": null,
            "width": null
          }
        },
        "1122b35e0a724376ad26845d5820c2f4": {
          "model_module": "@jupyter-widgets/base",
          "model_name": "LayoutModel",
          "state": {
            "_model_module": "@jupyter-widgets/base",
            "_model_module_version": "1.2.0",
            "_model_name": "LayoutModel",
            "_view_count": null,
            "_view_module": "@jupyter-widgets/base",
            "_view_module_version": "1.2.0",
            "_view_name": "LayoutView",
            "align_content": null,
            "align_items": null,
            "align_self": null,
            "border": null,
            "bottom": null,
            "display": null,
            "flex": null,
            "flex_flow": null,
            "grid_area": null,
            "grid_auto_columns": null,
            "grid_auto_flow": null,
            "grid_auto_rows": null,
            "grid_column": null,
            "grid_gap": null,
            "grid_row": null,
            "grid_template_areas": null,
            "grid_template_columns": null,
            "grid_template_rows": null,
            "height": null,
            "justify_content": null,
            "justify_items": null,
            "left": null,
            "margin": null,
            "max_height": null,
            "max_width": null,
            "min_height": null,
            "min_width": null,
            "object_fit": null,
            "object_position": null,
            "order": null,
            "overflow": null,
            "overflow_x": null,
            "overflow_y": null,
            "padding": null,
            "right": null,
            "top": null,
            "visibility": null,
            "width": null
          }
        },
        "11dcd5739d5148909d4926bb9b905f97": {
          "model_module": "@jupyter-widgets/base",
          "model_name": "LayoutModel",
          "state": {
            "_model_module": "@jupyter-widgets/base",
            "_model_module_version": "1.2.0",
            "_model_name": "LayoutModel",
            "_view_count": null,
            "_view_module": "@jupyter-widgets/base",
            "_view_module_version": "1.2.0",
            "_view_name": "LayoutView",
            "align_content": null,
            "align_items": null,
            "align_self": null,
            "border": null,
            "bottom": null,
            "display": null,
            "flex": null,
            "flex_flow": null,
            "grid_area": null,
            "grid_auto_columns": null,
            "grid_auto_flow": null,
            "grid_auto_rows": null,
            "grid_column": null,
            "grid_gap": null,
            "grid_row": null,
            "grid_template_areas": null,
            "grid_template_columns": null,
            "grid_template_rows": null,
            "height": null,
            "justify_content": null,
            "justify_items": null,
            "left": null,
            "margin": null,
            "max_height": null,
            "max_width": null,
            "min_height": null,
            "min_width": null,
            "object_fit": null,
            "object_position": null,
            "order": null,
            "overflow": null,
            "overflow_x": null,
            "overflow_y": null,
            "padding": null,
            "right": null,
            "top": null,
            "visibility": null,
            "width": null
          }
        },
        "13deca22c0aa4a998a3e568b64811df0": {
          "model_module": "@jupyter-widgets/controls",
          "model_name": "ProgressStyleModel",
          "state": {
            "_model_module": "@jupyter-widgets/controls",
            "_model_module_version": "1.5.0",
            "_model_name": "ProgressStyleModel",
            "_view_count": null,
            "_view_module": "@jupyter-widgets/base",
            "_view_module_version": "1.2.0",
            "_view_name": "StyleView",
            "bar_color": null,
            "description_width": "initial"
          }
        },
        "1538376557844b8581e7fcc5e7f36a5c": {
          "model_module": "@jupyter-widgets/base",
          "model_name": "LayoutModel",
          "state": {
            "_model_module": "@jupyter-widgets/base",
            "_model_module_version": "1.2.0",
            "_model_name": "LayoutModel",
            "_view_count": null,
            "_view_module": "@jupyter-widgets/base",
            "_view_module_version": "1.2.0",
            "_view_name": "LayoutView",
            "align_content": null,
            "align_items": null,
            "align_self": null,
            "border": null,
            "bottom": null,
            "display": null,
            "flex": null,
            "flex_flow": null,
            "grid_area": null,
            "grid_auto_columns": null,
            "grid_auto_flow": null,
            "grid_auto_rows": null,
            "grid_column": null,
            "grid_gap": null,
            "grid_row": null,
            "grid_template_areas": null,
            "grid_template_columns": null,
            "grid_template_rows": null,
            "height": null,
            "justify_content": null,
            "justify_items": null,
            "left": null,
            "margin": null,
            "max_height": null,
            "max_width": null,
            "min_height": null,
            "min_width": null,
            "object_fit": null,
            "object_position": null,
            "order": null,
            "overflow": null,
            "overflow_x": null,
            "overflow_y": null,
            "padding": null,
            "right": null,
            "top": null,
            "visibility": null,
            "width": null
          }
        },
        "16197148257e414b981f04fe74f32082": {
          "model_module": "@jupyter-widgets/base",
          "model_name": "LayoutModel",
          "state": {
            "_model_module": "@jupyter-widgets/base",
            "_model_module_version": "1.2.0",
            "_model_name": "LayoutModel",
            "_view_count": null,
            "_view_module": "@jupyter-widgets/base",
            "_view_module_version": "1.2.0",
            "_view_name": "LayoutView",
            "align_content": null,
            "align_items": null,
            "align_self": null,
            "border": null,
            "bottom": null,
            "display": null,
            "flex": null,
            "flex_flow": null,
            "grid_area": null,
            "grid_auto_columns": null,
            "grid_auto_flow": null,
            "grid_auto_rows": null,
            "grid_column": null,
            "grid_gap": null,
            "grid_row": null,
            "grid_template_areas": null,
            "grid_template_columns": null,
            "grid_template_rows": null,
            "height": null,
            "justify_content": null,
            "justify_items": null,
            "left": null,
            "margin": null,
            "max_height": null,
            "max_width": null,
            "min_height": null,
            "min_width": null,
            "object_fit": null,
            "object_position": null,
            "order": null,
            "overflow": null,
            "overflow_x": null,
            "overflow_y": null,
            "padding": null,
            "right": null,
            "top": null,
            "visibility": null,
            "width": null
          }
        },
        "192c0ae96ac2432a8cd9e7b159c17619": {
          "model_module": "@jupyter-widgets/controls",
          "model_name": "HTMLModel",
          "state": {
            "_dom_classes": [],
            "_model_module": "@jupyter-widgets/controls",
            "_model_module_version": "1.5.0",
            "_model_name": "HTMLModel",
            "_view_count": null,
            "_view_module": "@jupyter-widgets/controls",
            "_view_module_version": "1.5.0",
            "_view_name": "HTMLView",
            "description": "",
            "description_tooltip": null,
            "layout": "IPY_MODEL_ce257333d153427295777520362ccd05",
            "placeholder": "​",
            "style": "IPY_MODEL_a13f89195203416187c24a6fb7b2592e",
            "value": " 458/458 [02:00&lt;00:00,  3.80it/s]"
          }
        },
        "1c99fccda7454d77ba8f2a775dca98b8": {
          "model_module": "@jupyter-widgets/controls",
          "model_name": "HBoxModel",
          "state": {
            "_dom_classes": [],
            "_model_module": "@jupyter-widgets/controls",
            "_model_module_version": "1.5.0",
            "_model_name": "HBoxModel",
            "_view_count": null,
            "_view_module": "@jupyter-widgets/controls",
            "_view_module_version": "1.5.0",
            "_view_name": "HBoxView",
            "box_style": "",
            "children": [
              "IPY_MODEL_38a33c895d8b4ce9b9329e6d854e6727",
              "IPY_MODEL_c6511c4b930c48268e4aa8fbf93b47c1"
            ],
            "layout": "IPY_MODEL_9a35673c7f814c7ba69ef37ec8df8e2e"
          }
        },
        "1f19024dbe77446391169aa149a7bcce": {
          "model_module": "@jupyter-widgets/controls",
          "model_name": "HBoxModel",
          "state": {
            "_dom_classes": [],
            "_model_module": "@jupyter-widgets/controls",
            "_model_module_version": "1.5.0",
            "_model_name": "HBoxModel",
            "_view_count": null,
            "_view_module": "@jupyter-widgets/controls",
            "_view_module_version": "1.5.0",
            "_view_name": "HBoxView",
            "box_style": "",
            "children": [
              "IPY_MODEL_43c4c514fc4b47baa1677e7ac1989a28",
              "IPY_MODEL_09b4f896af01456096d38b6cce861640"
            ],
            "layout": "IPY_MODEL_0db29f42397b48d29d43d97cfeeff437"
          }
        },
        "202a9c83e0cd42a78219d6136b632fb3": {
          "model_module": "@jupyter-widgets/controls",
          "model_name": "ProgressStyleModel",
          "state": {
            "_model_module": "@jupyter-widgets/controls",
            "_model_module_version": "1.5.0",
            "_model_name": "ProgressStyleModel",
            "_view_count": null,
            "_view_module": "@jupyter-widgets/base",
            "_view_module_version": "1.2.0",
            "_view_name": "StyleView",
            "bar_color": null,
            "description_width": "initial"
          }
        },
        "225766f5465543bf9e14f548d735956d": {
          "model_module": "@jupyter-widgets/base",
          "model_name": "LayoutModel",
          "state": {
            "_model_module": "@jupyter-widgets/base",
            "_model_module_version": "1.2.0",
            "_model_name": "LayoutModel",
            "_view_count": null,
            "_view_module": "@jupyter-widgets/base",
            "_view_module_version": "1.2.0",
            "_view_name": "LayoutView",
            "align_content": null,
            "align_items": null,
            "align_self": null,
            "border": null,
            "bottom": null,
            "display": null,
            "flex": null,
            "flex_flow": null,
            "grid_area": null,
            "grid_auto_columns": null,
            "grid_auto_flow": null,
            "grid_auto_rows": null,
            "grid_column": null,
            "grid_gap": null,
            "grid_row": null,
            "grid_template_areas": null,
            "grid_template_columns": null,
            "grid_template_rows": null,
            "height": null,
            "justify_content": null,
            "justify_items": null,
            "left": null,
            "margin": null,
            "max_height": null,
            "max_width": null,
            "min_height": null,
            "min_width": null,
            "object_fit": null,
            "object_position": null,
            "order": null,
            "overflow": null,
            "overflow_x": null,
            "overflow_y": null,
            "padding": null,
            "right": null,
            "top": null,
            "visibility": null,
            "width": null
          }
        },
        "22991e5916574901ac4d5f89894849ea": {
          "model_module": "@jupyter-widgets/controls",
          "model_name": "FloatProgressModel",
          "state": {
            "_dom_classes": [],
            "_model_module": "@jupyter-widgets/controls",
            "_model_module_version": "1.5.0",
            "_model_name": "FloatProgressModel",
            "_view_count": null,
            "_view_module": "@jupyter-widgets/controls",
            "_view_module_version": "1.5.0",
            "_view_name": "ProgressView",
            "bar_style": "success",
            "description": "Epoch: 8 &gt;&gt; Loss: 1.12:: 100%",
            "description_tooltip": null,
            "layout": "IPY_MODEL_fec599cdfa53482db8140609b745c261",
            "max": 458,
            "min": 0,
            "orientation": "horizontal",
            "style": "IPY_MODEL_13deca22c0aa4a998a3e568b64811df0",
            "value": 458
          }
        },
        "22f1cb9f844c4e3ca6a319360720ff12": {
          "model_module": "@jupyter-widgets/base",
          "model_name": "LayoutModel",
          "state": {
            "_model_module": "@jupyter-widgets/base",
            "_model_module_version": "1.2.0",
            "_model_name": "LayoutModel",
            "_view_count": null,
            "_view_module": "@jupyter-widgets/base",
            "_view_module_version": "1.2.0",
            "_view_name": "LayoutView",
            "align_content": null,
            "align_items": null,
            "align_self": null,
            "border": null,
            "bottom": null,
            "display": null,
            "flex": null,
            "flex_flow": null,
            "grid_area": null,
            "grid_auto_columns": null,
            "grid_auto_flow": null,
            "grid_auto_rows": null,
            "grid_column": null,
            "grid_gap": null,
            "grid_row": null,
            "grid_template_areas": null,
            "grid_template_columns": null,
            "grid_template_rows": null,
            "height": null,
            "justify_content": null,
            "justify_items": null,
            "left": null,
            "margin": null,
            "max_height": null,
            "max_width": null,
            "min_height": null,
            "min_width": null,
            "object_fit": null,
            "object_position": null,
            "order": null,
            "overflow": null,
            "overflow_x": null,
            "overflow_y": null,
            "padding": null,
            "right": null,
            "top": null,
            "visibility": null,
            "width": null
          }
        },
        "235bddd9624a4d67853fe137ebeae4aa": {
          "model_module": "@jupyter-widgets/base",
          "model_name": "LayoutModel",
          "state": {
            "_model_module": "@jupyter-widgets/base",
            "_model_module_version": "1.2.0",
            "_model_name": "LayoutModel",
            "_view_count": null,
            "_view_module": "@jupyter-widgets/base",
            "_view_module_version": "1.2.0",
            "_view_name": "LayoutView",
            "align_content": null,
            "align_items": null,
            "align_self": null,
            "border": null,
            "bottom": null,
            "display": null,
            "flex": null,
            "flex_flow": null,
            "grid_area": null,
            "grid_auto_columns": null,
            "grid_auto_flow": null,
            "grid_auto_rows": null,
            "grid_column": null,
            "grid_gap": null,
            "grid_row": null,
            "grid_template_areas": null,
            "grid_template_columns": null,
            "grid_template_rows": null,
            "height": null,
            "justify_content": null,
            "justify_items": null,
            "left": null,
            "margin": null,
            "max_height": null,
            "max_width": null,
            "min_height": null,
            "min_width": null,
            "object_fit": null,
            "object_position": null,
            "order": null,
            "overflow": null,
            "overflow_x": null,
            "overflow_y": null,
            "padding": null,
            "right": null,
            "top": null,
            "visibility": null,
            "width": null
          }
        },
        "2705545d33064f07a196b5c9ab4d52a0": {
          "model_module": "@jupyter-widgets/base",
          "model_name": "LayoutModel",
          "state": {
            "_model_module": "@jupyter-widgets/base",
            "_model_module_version": "1.2.0",
            "_model_name": "LayoutModel",
            "_view_count": null,
            "_view_module": "@jupyter-widgets/base",
            "_view_module_version": "1.2.0",
            "_view_name": "LayoutView",
            "align_content": null,
            "align_items": null,
            "align_self": null,
            "border": null,
            "bottom": null,
            "display": null,
            "flex": null,
            "flex_flow": null,
            "grid_area": null,
            "grid_auto_columns": null,
            "grid_auto_flow": null,
            "grid_auto_rows": null,
            "grid_column": null,
            "grid_gap": null,
            "grid_row": null,
            "grid_template_areas": null,
            "grid_template_columns": null,
            "grid_template_rows": null,
            "height": null,
            "justify_content": null,
            "justify_items": null,
            "left": null,
            "margin": null,
            "max_height": null,
            "max_width": null,
            "min_height": null,
            "min_width": null,
            "object_fit": null,
            "object_position": null,
            "order": null,
            "overflow": null,
            "overflow_x": null,
            "overflow_y": null,
            "padding": null,
            "right": null,
            "top": null,
            "visibility": null,
            "width": null
          }
        },
        "279cc177a5384399a902d3551e1bb1b5": {
          "model_module": "@jupyter-widgets/base",
          "model_name": "LayoutModel",
          "state": {
            "_model_module": "@jupyter-widgets/base",
            "_model_module_version": "1.2.0",
            "_model_name": "LayoutModel",
            "_view_count": null,
            "_view_module": "@jupyter-widgets/base",
            "_view_module_version": "1.2.0",
            "_view_name": "LayoutView",
            "align_content": null,
            "align_items": null,
            "align_self": null,
            "border": null,
            "bottom": null,
            "display": null,
            "flex": null,
            "flex_flow": null,
            "grid_area": null,
            "grid_auto_columns": null,
            "grid_auto_flow": null,
            "grid_auto_rows": null,
            "grid_column": null,
            "grid_gap": null,
            "grid_row": null,
            "grid_template_areas": null,
            "grid_template_columns": null,
            "grid_template_rows": null,
            "height": null,
            "justify_content": null,
            "justify_items": null,
            "left": null,
            "margin": null,
            "max_height": null,
            "max_width": null,
            "min_height": null,
            "min_width": null,
            "object_fit": null,
            "object_position": null,
            "order": null,
            "overflow": null,
            "overflow_x": null,
            "overflow_y": null,
            "padding": null,
            "right": null,
            "top": null,
            "visibility": null,
            "width": null
          }
        },
        "27ab6771041b4aa6bc28cbbf3160f465": {
          "model_module": "@jupyter-widgets/controls",
          "model_name": "DescriptionStyleModel",
          "state": {
            "_model_module": "@jupyter-widgets/controls",
            "_model_module_version": "1.5.0",
            "_model_name": "DescriptionStyleModel",
            "_view_count": null,
            "_view_module": "@jupyter-widgets/base",
            "_view_module_version": "1.2.0",
            "_view_name": "StyleView",
            "description_width": ""
          }
        },
        "2c0440506f234d22a6c780a9cad0d585": {
          "model_module": "@jupyter-widgets/controls",
          "model_name": "FloatProgressModel",
          "state": {
            "_dom_classes": [],
            "_model_module": "@jupyter-widgets/controls",
            "_model_module_version": "1.5.0",
            "_model_name": "FloatProgressModel",
            "_view_count": null,
            "_view_module": "@jupyter-widgets/controls",
            "_view_module_version": "1.5.0",
            "_view_name": "ProgressView",
            "bar_style": "success",
            "description": "Epoch: 5 &gt;&gt; Loss: 1.50:: 100%",
            "description_tooltip": null,
            "layout": "IPY_MODEL_5d689f33280a447f879f6f92f6c75f90",
            "max": 458,
            "min": 0,
            "orientation": "horizontal",
            "style": "IPY_MODEL_6a3f47d620da4402ab8f981bd6bb87b5",
            "value": 458
          }
        },
        "2c41baac2e434c689c4a538a9ccd2d7e": {
          "model_module": "@jupyter-widgets/controls",
          "model_name": "HTMLModel",
          "state": {
            "_dom_classes": [],
            "_model_module": "@jupyter-widgets/controls",
            "_model_module_version": "1.5.0",
            "_model_name": "HTMLModel",
            "_view_count": null,
            "_view_module": "@jupyter-widgets/controls",
            "_view_module_version": "1.5.0",
            "_view_name": "HTMLView",
            "description": "",
            "description_tooltip": null,
            "layout": "IPY_MODEL_235bddd9624a4d67853fe137ebeae4aa",
            "placeholder": "​",
            "style": "IPY_MODEL_c69247dc2e35458c9f0d840ab7bb5d10",
            "value": " 458/458 [04:01&lt;00:00,  1.90it/s]"
          }
        },
        "2caf2558f1e547a5bbc017f8c49f6d19": {
          "model_module": "@jupyter-widgets/base",
          "model_name": "LayoutModel",
          "state": {
            "_model_module": "@jupyter-widgets/base",
            "_model_module_version": "1.2.0",
            "_model_name": "LayoutModel",
            "_view_count": null,
            "_view_module": "@jupyter-widgets/base",
            "_view_module_version": "1.2.0",
            "_view_name": "LayoutView",
            "align_content": null,
            "align_items": null,
            "align_self": null,
            "border": null,
            "bottom": null,
            "display": null,
            "flex": null,
            "flex_flow": null,
            "grid_area": null,
            "grid_auto_columns": null,
            "grid_auto_flow": null,
            "grid_auto_rows": null,
            "grid_column": null,
            "grid_gap": null,
            "grid_row": null,
            "grid_template_areas": null,
            "grid_template_columns": null,
            "grid_template_rows": null,
            "height": null,
            "justify_content": null,
            "justify_items": null,
            "left": null,
            "margin": null,
            "max_height": null,
            "max_width": null,
            "min_height": null,
            "min_width": null,
            "object_fit": null,
            "object_position": null,
            "order": null,
            "overflow": null,
            "overflow_x": null,
            "overflow_y": null,
            "padding": null,
            "right": null,
            "top": null,
            "visibility": null,
            "width": null
          }
        },
        "313b7c52c06d4212a4d9af31c8314649": {
          "model_module": "@jupyter-widgets/controls",
          "model_name": "ProgressStyleModel",
          "state": {
            "_model_module": "@jupyter-widgets/controls",
            "_model_module_version": "1.5.0",
            "_model_name": "ProgressStyleModel",
            "_view_count": null,
            "_view_module": "@jupyter-widgets/base",
            "_view_module_version": "1.2.0",
            "_view_name": "StyleView",
            "bar_color": null,
            "description_width": "initial"
          }
        },
        "33af51bdabd8447bb3d3a8a3113b0cc0": {
          "model_module": "@jupyter-widgets/controls",
          "model_name": "HBoxModel",
          "state": {
            "_dom_classes": [],
            "_model_module": "@jupyter-widgets/controls",
            "_model_module_version": "1.5.0",
            "_model_name": "HBoxModel",
            "_view_count": null,
            "_view_module": "@jupyter-widgets/controls",
            "_view_module_version": "1.5.0",
            "_view_name": "HBoxView",
            "box_style": "",
            "children": [
              "IPY_MODEL_aefc7abc54954fa8b4ca436f62135737",
              "IPY_MODEL_cf010d6f2e6242b0908e2c36fe412ecf"
            ],
            "layout": "IPY_MODEL_4abd2e58c1814c2e820c4e89fb2a1915"
          }
        },
        "3642e7e111324e8a973d8a113de92236": {
          "model_module": "@jupyter-widgets/controls",
          "model_name": "FloatProgressModel",
          "state": {
            "_dom_classes": [],
            "_model_module": "@jupyter-widgets/controls",
            "_model_module_version": "1.5.0",
            "_model_name": "FloatProgressModel",
            "_view_count": null,
            "_view_module": "@jupyter-widgets/controls",
            "_view_module_version": "1.5.0",
            "_view_name": "ProgressView",
            "bar_style": "success",
            "description": "Epoch: 1 &gt;&gt; Loss: 2.60:: 100%",
            "description_tooltip": null,
            "layout": "IPY_MODEL_1538376557844b8581e7fcc5e7f36a5c",
            "max": 458,
            "min": 0,
            "orientation": "horizontal",
            "style": "IPY_MODEL_b8b2fc68eb5049f18307403278289b2c",
            "value": 458
          }
        },
        "38a33c895d8b4ce9b9329e6d854e6727": {
          "model_module": "@jupyter-widgets/controls",
          "model_name": "FloatProgressModel",
          "state": {
            "_dom_classes": [],
            "_model_module": "@jupyter-widgets/controls",
            "_model_module_version": "1.5.0",
            "_model_name": "FloatProgressModel",
            "_view_count": null,
            "_view_module": "@jupyter-widgets/controls",
            "_view_module_version": "1.5.0",
            "_view_name": "ProgressView",
            "bar_style": "success",
            "description": "Epoch: 0 &gt;&gt; Loss: 3.23:: 100%",
            "description_tooltip": null,
            "layout": "IPY_MODEL_755974f7133045d2983312d1d984db09",
            "max": 458,
            "min": 0,
            "orientation": "horizontal",
            "style": "IPY_MODEL_c863c2e7ec454ea1a929bc926bf0b493",
            "value": 458
          }
        },
        "39a89860f3744f629e1fbd4f0b0573e1": {
          "model_module": "@jupyter-widgets/controls",
          "model_name": "ProgressStyleModel",
          "state": {
            "_model_module": "@jupyter-widgets/controls",
            "_model_module_version": "1.5.0",
            "_model_name": "ProgressStyleModel",
            "_view_count": null,
            "_view_module": "@jupyter-widgets/base",
            "_view_module_version": "1.2.0",
            "_view_name": "StyleView",
            "bar_color": null,
            "description_width": "initial"
          }
        },
        "3abff1fb6f6144409a90b78ce07c4e65": {
          "model_module": "@jupyter-widgets/base",
          "model_name": "LayoutModel",
          "state": {
            "_model_module": "@jupyter-widgets/base",
            "_model_module_version": "1.2.0",
            "_model_name": "LayoutModel",
            "_view_count": null,
            "_view_module": "@jupyter-widgets/base",
            "_view_module_version": "1.2.0",
            "_view_name": "LayoutView",
            "align_content": null,
            "align_items": null,
            "align_self": null,
            "border": null,
            "bottom": null,
            "display": null,
            "flex": null,
            "flex_flow": null,
            "grid_area": null,
            "grid_auto_columns": null,
            "grid_auto_flow": null,
            "grid_auto_rows": null,
            "grid_column": null,
            "grid_gap": null,
            "grid_row": null,
            "grid_template_areas": null,
            "grid_template_columns": null,
            "grid_template_rows": null,
            "height": null,
            "justify_content": null,
            "justify_items": null,
            "left": null,
            "margin": null,
            "max_height": null,
            "max_width": null,
            "min_height": null,
            "min_width": null,
            "object_fit": null,
            "object_position": null,
            "order": null,
            "overflow": null,
            "overflow_x": null,
            "overflow_y": null,
            "padding": null,
            "right": null,
            "top": null,
            "visibility": null,
            "width": null
          }
        },
        "3e3ee6cbb0e14d029dc8b3c6b340674f": {
          "model_module": "@jupyter-widgets/base",
          "model_name": "LayoutModel",
          "state": {
            "_model_module": "@jupyter-widgets/base",
            "_model_module_version": "1.2.0",
            "_model_name": "LayoutModel",
            "_view_count": null,
            "_view_module": "@jupyter-widgets/base",
            "_view_module_version": "1.2.0",
            "_view_name": "LayoutView",
            "align_content": null,
            "align_items": null,
            "align_self": null,
            "border": null,
            "bottom": null,
            "display": null,
            "flex": null,
            "flex_flow": null,
            "grid_area": null,
            "grid_auto_columns": null,
            "grid_auto_flow": null,
            "grid_auto_rows": null,
            "grid_column": null,
            "grid_gap": null,
            "grid_row": null,
            "grid_template_areas": null,
            "grid_template_columns": null,
            "grid_template_rows": null,
            "height": null,
            "justify_content": null,
            "justify_items": null,
            "left": null,
            "margin": null,
            "max_height": null,
            "max_width": null,
            "min_height": null,
            "min_width": null,
            "object_fit": null,
            "object_position": null,
            "order": null,
            "overflow": null,
            "overflow_x": null,
            "overflow_y": null,
            "padding": null,
            "right": null,
            "top": null,
            "visibility": null,
            "width": null
          }
        },
        "3e6d54c3b82243de999136fab997cb2d": {
          "model_module": "@jupyter-widgets/controls",
          "model_name": "DescriptionStyleModel",
          "state": {
            "_model_module": "@jupyter-widgets/controls",
            "_model_module_version": "1.5.0",
            "_model_name": "DescriptionStyleModel",
            "_view_count": null,
            "_view_module": "@jupyter-widgets/base",
            "_view_module_version": "1.2.0",
            "_view_name": "StyleView",
            "description_width": ""
          }
        },
        "3ed49c96dff74fc8b18fcbbb0c42668d": {
          "model_module": "@jupyter-widgets/controls",
          "model_name": "HBoxModel",
          "state": {
            "_dom_classes": [],
            "_model_module": "@jupyter-widgets/controls",
            "_model_module_version": "1.5.0",
            "_model_name": "HBoxModel",
            "_view_count": null,
            "_view_module": "@jupyter-widgets/controls",
            "_view_module_version": "1.5.0",
            "_view_name": "HBoxView",
            "box_style": "",
            "children": [
              "IPY_MODEL_6c31e0da56e24175a0dacfd962e3ecd1",
              "IPY_MODEL_9d8aef058f34419b9f8ce2969960999c"
            ],
            "layout": "IPY_MODEL_8e4dc4d7df274cc2a1cb7dace246633f"
          }
        },
        "41628441aefb4300a9ed20c8bc99d555": {
          "model_module": "@jupyter-widgets/base",
          "model_name": "LayoutModel",
          "state": {
            "_model_module": "@jupyter-widgets/base",
            "_model_module_version": "1.2.0",
            "_model_name": "LayoutModel",
            "_view_count": null,
            "_view_module": "@jupyter-widgets/base",
            "_view_module_version": "1.2.0",
            "_view_name": "LayoutView",
            "align_content": null,
            "align_items": null,
            "align_self": null,
            "border": null,
            "bottom": null,
            "display": null,
            "flex": null,
            "flex_flow": null,
            "grid_area": null,
            "grid_auto_columns": null,
            "grid_auto_flow": null,
            "grid_auto_rows": null,
            "grid_column": null,
            "grid_gap": null,
            "grid_row": null,
            "grid_template_areas": null,
            "grid_template_columns": null,
            "grid_template_rows": null,
            "height": null,
            "justify_content": null,
            "justify_items": null,
            "left": null,
            "margin": null,
            "max_height": null,
            "max_width": null,
            "min_height": null,
            "min_width": null,
            "object_fit": null,
            "object_position": null,
            "order": null,
            "overflow": null,
            "overflow_x": null,
            "overflow_y": null,
            "padding": null,
            "right": null,
            "top": null,
            "visibility": null,
            "width": null
          }
        },
        "4199a7685f1e46f4ac54265b775bacf4": {
          "model_module": "@jupyter-widgets/controls",
          "model_name": "HBoxModel",
          "state": {
            "_dom_classes": [],
            "_model_module": "@jupyter-widgets/controls",
            "_model_module_version": "1.5.0",
            "_model_name": "HBoxModel",
            "_view_count": null,
            "_view_module": "@jupyter-widgets/controls",
            "_view_module_version": "1.5.0",
            "_view_name": "HBoxView",
            "box_style": "",
            "children": [
              "IPY_MODEL_3642e7e111324e8a973d8a113de92236",
              "IPY_MODEL_0b774a8d14a24b01881a636c538e7d2f"
            ],
            "layout": "IPY_MODEL_56e54407f0f74aa398d58d60a3f7c82d"
          }
        },
        "43c4c514fc4b47baa1677e7ac1989a28": {
          "model_module": "@jupyter-widgets/controls",
          "model_name": "FloatProgressModel",
          "state": {
            "_dom_classes": [],
            "_model_module": "@jupyter-widgets/controls",
            "_model_module_version": "1.5.0",
            "_model_name": "FloatProgressModel",
            "_view_count": null,
            "_view_module": "@jupyter-widgets/controls",
            "_view_module_version": "1.5.0",
            "_view_name": "ProgressView",
            "bar_style": "success",
            "description": "Epoch: 6 &gt;&gt; Loss: 1.35:: 100%",
            "description_tooltip": null,
            "layout": "IPY_MODEL_225766f5465543bf9e14f548d735956d",
            "max": 458,
            "min": 0,
            "orientation": "horizontal",
            "style": "IPY_MODEL_98c132cb7da04fc9a18a6e5119bde941",
            "value": 458
          }
        },
        "44bdc33c2cdc4a37aa70ee70dd9b7378": {
          "model_module": "@jupyter-widgets/controls",
          "model_name": "ProgressStyleModel",
          "state": {
            "_model_module": "@jupyter-widgets/controls",
            "_model_module_version": "1.5.0",
            "_model_name": "ProgressStyleModel",
            "_view_count": null,
            "_view_module": "@jupyter-widgets/base",
            "_view_module_version": "1.2.0",
            "_view_name": "StyleView",
            "bar_color": null,
            "description_width": "initial"
          }
        },
        "44f12de53ea84aa79e83b2a69ccda119": {
          "model_module": "@jupyter-widgets/controls",
          "model_name": "HBoxModel",
          "state": {
            "_dom_classes": [],
            "_model_module": "@jupyter-widgets/controls",
            "_model_module_version": "1.5.0",
            "_model_name": "HBoxModel",
            "_view_count": null,
            "_view_module": "@jupyter-widgets/controls",
            "_view_module_version": "1.5.0",
            "_view_name": "HBoxView",
            "box_style": "",
            "children": [
              "IPY_MODEL_2c0440506f234d22a6c780a9cad0d585",
              "IPY_MODEL_0439629669c94669aeef45f665dfbf68"
            ],
            "layout": "IPY_MODEL_3abff1fb6f6144409a90b78ce07c4e65"
          }
        },
        "468b5ba885e246f7922328ca6b2aa2fd": {
          "model_module": "@jupyter-widgets/controls",
          "model_name": "DescriptionStyleModel",
          "state": {
            "_model_module": "@jupyter-widgets/controls",
            "_model_module_version": "1.5.0",
            "_model_name": "DescriptionStyleModel",
            "_view_count": null,
            "_view_module": "@jupyter-widgets/base",
            "_view_module_version": "1.2.0",
            "_view_name": "StyleView",
            "description_width": ""
          }
        },
        "4a5f867834fc4df48fca594fe5609663": {
          "model_module": "@jupyter-widgets/controls",
          "model_name": "HTMLModel",
          "state": {
            "_dom_classes": [],
            "_model_module": "@jupyter-widgets/controls",
            "_model_module_version": "1.5.0",
            "_model_name": "HTMLModel",
            "_view_count": null,
            "_view_module": "@jupyter-widgets/controls",
            "_view_module_version": "1.5.0",
            "_view_name": "HTMLView",
            "description": "",
            "description_tooltip": null,
            "layout": "IPY_MODEL_60d2319f5d3c41359a6354a60ac07a40",
            "placeholder": "​",
            "style": "IPY_MODEL_468b5ba885e246f7922328ca6b2aa2fd",
            "value": " 458/458 [03:00&lt;00:00,  2.54it/s]"
          }
        },
        "4abd2e58c1814c2e820c4e89fb2a1915": {
          "model_module": "@jupyter-widgets/base",
          "model_name": "LayoutModel",
          "state": {
            "_model_module": "@jupyter-widgets/base",
            "_model_module_version": "1.2.0",
            "_model_name": "LayoutModel",
            "_view_count": null,
            "_view_module": "@jupyter-widgets/base",
            "_view_module_version": "1.2.0",
            "_view_name": "LayoutView",
            "align_content": null,
            "align_items": null,
            "align_self": null,
            "border": null,
            "bottom": null,
            "display": null,
            "flex": null,
            "flex_flow": null,
            "grid_area": null,
            "grid_auto_columns": null,
            "grid_auto_flow": null,
            "grid_auto_rows": null,
            "grid_column": null,
            "grid_gap": null,
            "grid_row": null,
            "grid_template_areas": null,
            "grid_template_columns": null,
            "grid_template_rows": null,
            "height": null,
            "justify_content": null,
            "justify_items": null,
            "left": null,
            "margin": null,
            "max_height": null,
            "max_width": null,
            "min_height": null,
            "min_width": null,
            "object_fit": null,
            "object_position": null,
            "order": null,
            "overflow": null,
            "overflow_x": null,
            "overflow_y": null,
            "padding": null,
            "right": null,
            "top": null,
            "visibility": null,
            "width": null
          }
        },
        "4af08abcbce0440cb53e8906d0500130": {
          "model_module": "@jupyter-widgets/base",
          "model_name": "LayoutModel",
          "state": {
            "_model_module": "@jupyter-widgets/base",
            "_model_module_version": "1.2.0",
            "_model_name": "LayoutModel",
            "_view_count": null,
            "_view_module": "@jupyter-widgets/base",
            "_view_module_version": "1.2.0",
            "_view_name": "LayoutView",
            "align_content": null,
            "align_items": null,
            "align_self": null,
            "border": null,
            "bottom": null,
            "display": null,
            "flex": null,
            "flex_flow": null,
            "grid_area": null,
            "grid_auto_columns": null,
            "grid_auto_flow": null,
            "grid_auto_rows": null,
            "grid_column": null,
            "grid_gap": null,
            "grid_row": null,
            "grid_template_areas": null,
            "grid_template_columns": null,
            "grid_template_rows": null,
            "height": null,
            "justify_content": null,
            "justify_items": null,
            "left": null,
            "margin": null,
            "max_height": null,
            "max_width": null,
            "min_height": null,
            "min_width": null,
            "object_fit": null,
            "object_position": null,
            "order": null,
            "overflow": null,
            "overflow_x": null,
            "overflow_y": null,
            "padding": null,
            "right": null,
            "top": null,
            "visibility": null,
            "width": null
          }
        },
        "4c62a28431704e1d820c648600598b00": {
          "model_module": "@jupyter-widgets/controls",
          "model_name": "HTMLModel",
          "state": {
            "_dom_classes": [],
            "_model_module": "@jupyter-widgets/controls",
            "_model_module_version": "1.5.0",
            "_model_name": "HTMLModel",
            "_view_count": null,
            "_view_module": "@jupyter-widgets/controls",
            "_view_module_version": "1.5.0",
            "_view_name": "HTMLView",
            "description": "",
            "description_tooltip": null,
            "layout": "IPY_MODEL_11dcd5739d5148909d4926bb9b905f97",
            "placeholder": "​",
            "style": "IPY_MODEL_0f539f2e275c47c88d2e44a332894df3",
            "value": " 30823/30823 [00:00&lt;00:00, 67091.99it/s]"
          }
        },
        "507e5be634b64d81a8d0a77c1a27a7ac": {
          "model_module": "@jupyter-widgets/base",
          "model_name": "LayoutModel",
          "state": {
            "_model_module": "@jupyter-widgets/base",
            "_model_module_version": "1.2.0",
            "_model_name": "LayoutModel",
            "_view_count": null,
            "_view_module": "@jupyter-widgets/base",
            "_view_module_version": "1.2.0",
            "_view_name": "LayoutView",
            "align_content": null,
            "align_items": null,
            "align_self": null,
            "border": null,
            "bottom": null,
            "display": null,
            "flex": null,
            "flex_flow": null,
            "grid_area": null,
            "grid_auto_columns": null,
            "grid_auto_flow": null,
            "grid_auto_rows": null,
            "grid_column": null,
            "grid_gap": null,
            "grid_row": null,
            "grid_template_areas": null,
            "grid_template_columns": null,
            "grid_template_rows": null,
            "height": null,
            "justify_content": null,
            "justify_items": null,
            "left": null,
            "margin": null,
            "max_height": null,
            "max_width": null,
            "min_height": null,
            "min_width": null,
            "object_fit": null,
            "object_position": null,
            "order": null,
            "overflow": null,
            "overflow_x": null,
            "overflow_y": null,
            "padding": null,
            "right": null,
            "top": null,
            "visibility": null,
            "width": null
          }
        },
        "5316a4a9531e451c95cf0499736f5ae6": {
          "model_module": "@jupyter-widgets/controls",
          "model_name": "HBoxModel",
          "state": {
            "_dom_classes": [],
            "_model_module": "@jupyter-widgets/controls",
            "_model_module_version": "1.5.0",
            "_model_name": "HBoxModel",
            "_view_count": null,
            "_view_module": "@jupyter-widgets/controls",
            "_view_module_version": "1.5.0",
            "_view_name": "HBoxView",
            "box_style": "",
            "children": [
              "IPY_MODEL_cd659f72e3cf4c68ae7b0060f923908e",
              "IPY_MODEL_4c62a28431704e1d820c648600598b00"
            ],
            "layout": "IPY_MODEL_1076c4135e404c4695d4413a84095c72"
          }
        },
        "547059fe8f354b4abaaf733dc4957d6d": {
          "model_module": "@jupyter-widgets/controls",
          "model_name": "HBoxModel",
          "state": {
            "_dom_classes": [],
            "_model_module": "@jupyter-widgets/controls",
            "_model_module_version": "1.5.0",
            "_model_name": "HBoxModel",
            "_view_count": null,
            "_view_module": "@jupyter-widgets/controls",
            "_view_module_version": "1.5.0",
            "_view_name": "HBoxView",
            "box_style": "",
            "children": [
              "IPY_MODEL_0d20ec252dd2451ea73ec2f3d1b74cc9",
              "IPY_MODEL_a41720300e9b4be0bf2ea1db12e8c0ff"
            ],
            "layout": "IPY_MODEL_41628441aefb4300a9ed20c8bc99d555"
          }
        },
        "55e46be779e84e91a8dbd875979ede9e": {
          "model_module": "@jupyter-widgets/base",
          "model_name": "LayoutModel",
          "state": {
            "_model_module": "@jupyter-widgets/base",
            "_model_module_version": "1.2.0",
            "_model_name": "LayoutModel",
            "_view_count": null,
            "_view_module": "@jupyter-widgets/base",
            "_view_module_version": "1.2.0",
            "_view_name": "LayoutView",
            "align_content": null,
            "align_items": null,
            "align_self": null,
            "border": null,
            "bottom": null,
            "display": null,
            "flex": null,
            "flex_flow": null,
            "grid_area": null,
            "grid_auto_columns": null,
            "grid_auto_flow": null,
            "grid_auto_rows": null,
            "grid_column": null,
            "grid_gap": null,
            "grid_row": null,
            "grid_template_areas": null,
            "grid_template_columns": null,
            "grid_template_rows": null,
            "height": null,
            "justify_content": null,
            "justify_items": null,
            "left": null,
            "margin": null,
            "max_height": null,
            "max_width": null,
            "min_height": null,
            "min_width": null,
            "object_fit": null,
            "object_position": null,
            "order": null,
            "overflow": null,
            "overflow_x": null,
            "overflow_y": null,
            "padding": null,
            "right": null,
            "top": null,
            "visibility": null,
            "width": null
          }
        },
        "56e54407f0f74aa398d58d60a3f7c82d": {
          "model_module": "@jupyter-widgets/base",
          "model_name": "LayoutModel",
          "state": {
            "_model_module": "@jupyter-widgets/base",
            "_model_module_version": "1.2.0",
            "_model_name": "LayoutModel",
            "_view_count": null,
            "_view_module": "@jupyter-widgets/base",
            "_view_module_version": "1.2.0",
            "_view_name": "LayoutView",
            "align_content": null,
            "align_items": null,
            "align_self": null,
            "border": null,
            "bottom": null,
            "display": null,
            "flex": null,
            "flex_flow": null,
            "grid_area": null,
            "grid_auto_columns": null,
            "grid_auto_flow": null,
            "grid_auto_rows": null,
            "grid_column": null,
            "grid_gap": null,
            "grid_row": null,
            "grid_template_areas": null,
            "grid_template_columns": null,
            "grid_template_rows": null,
            "height": null,
            "justify_content": null,
            "justify_items": null,
            "left": null,
            "margin": null,
            "max_height": null,
            "max_width": null,
            "min_height": null,
            "min_width": null,
            "object_fit": null,
            "object_position": null,
            "order": null,
            "overflow": null,
            "overflow_x": null,
            "overflow_y": null,
            "padding": null,
            "right": null,
            "top": null,
            "visibility": null,
            "width": null
          }
        },
        "574526279c9a4cb4a5359e53f99c00ec": {
          "model_module": "@jupyter-widgets/controls",
          "model_name": "DescriptionStyleModel",
          "state": {
            "_model_module": "@jupyter-widgets/controls",
            "_model_module_version": "1.5.0",
            "_model_name": "DescriptionStyleModel",
            "_view_count": null,
            "_view_module": "@jupyter-widgets/base",
            "_view_module_version": "1.2.0",
            "_view_name": "StyleView",
            "description_width": ""
          }
        },
        "58a9fda6a7f04e9f8b02c53bf58adcf0": {
          "model_module": "@jupyter-widgets/controls",
          "model_name": "HBoxModel",
          "state": {
            "_dom_classes": [],
            "_model_module": "@jupyter-widgets/controls",
            "_model_module_version": "1.5.0",
            "_model_name": "HBoxModel",
            "_view_count": null,
            "_view_module": "@jupyter-widgets/controls",
            "_view_module_version": "1.5.0",
            "_view_name": "HBoxView",
            "box_style": "",
            "children": [
              "IPY_MODEL_22991e5916574901ac4d5f89894849ea",
              "IPY_MODEL_192c0ae96ac2432a8cd9e7b159c17619"
            ],
            "layout": "IPY_MODEL_55e46be779e84e91a8dbd875979ede9e"
          }
        },
        "591343ffec8c468bad0ab08d0dfb7e3d": {
          "model_module": "@jupyter-widgets/controls",
          "model_name": "ProgressStyleModel",
          "state": {
            "_model_module": "@jupyter-widgets/controls",
            "_model_module_version": "1.5.0",
            "_model_name": "ProgressStyleModel",
            "_view_count": null,
            "_view_module": "@jupyter-widgets/base",
            "_view_module_version": "1.2.0",
            "_view_name": "StyleView",
            "bar_color": null,
            "description_width": "initial"
          }
        },
        "5d689f33280a447f879f6f92f6c75f90": {
          "model_module": "@jupyter-widgets/base",
          "model_name": "LayoutModel",
          "state": {
            "_model_module": "@jupyter-widgets/base",
            "_model_module_version": "1.2.0",
            "_model_name": "LayoutModel",
            "_view_count": null,
            "_view_module": "@jupyter-widgets/base",
            "_view_module_version": "1.2.0",
            "_view_name": "LayoutView",
            "align_content": null,
            "align_items": null,
            "align_self": null,
            "border": null,
            "bottom": null,
            "display": null,
            "flex": null,
            "flex_flow": null,
            "grid_area": null,
            "grid_auto_columns": null,
            "grid_auto_flow": null,
            "grid_auto_rows": null,
            "grid_column": null,
            "grid_gap": null,
            "grid_row": null,
            "grid_template_areas": null,
            "grid_template_columns": null,
            "grid_template_rows": null,
            "height": null,
            "justify_content": null,
            "justify_items": null,
            "left": null,
            "margin": null,
            "max_height": null,
            "max_width": null,
            "min_height": null,
            "min_width": null,
            "object_fit": null,
            "object_position": null,
            "order": null,
            "overflow": null,
            "overflow_x": null,
            "overflow_y": null,
            "padding": null,
            "right": null,
            "top": null,
            "visibility": null,
            "width": null
          }
        },
        "60acf60ca4864fe3940e56acf89c51a3": {
          "model_module": "@jupyter-widgets/controls",
          "model_name": "DescriptionStyleModel",
          "state": {
            "_model_module": "@jupyter-widgets/controls",
            "_model_module_version": "1.5.0",
            "_model_name": "DescriptionStyleModel",
            "_view_count": null,
            "_view_module": "@jupyter-widgets/base",
            "_view_module_version": "1.2.0",
            "_view_name": "StyleView",
            "description_width": ""
          }
        },
        "60d2319f5d3c41359a6354a60ac07a40": {
          "model_module": "@jupyter-widgets/base",
          "model_name": "LayoutModel",
          "state": {
            "_model_module": "@jupyter-widgets/base",
            "_model_module_version": "1.2.0",
            "_model_name": "LayoutModel",
            "_view_count": null,
            "_view_module": "@jupyter-widgets/base",
            "_view_module_version": "1.2.0",
            "_view_name": "LayoutView",
            "align_content": null,
            "align_items": null,
            "align_self": null,
            "border": null,
            "bottom": null,
            "display": null,
            "flex": null,
            "flex_flow": null,
            "grid_area": null,
            "grid_auto_columns": null,
            "grid_auto_flow": null,
            "grid_auto_rows": null,
            "grid_column": null,
            "grid_gap": null,
            "grid_row": null,
            "grid_template_areas": null,
            "grid_template_columns": null,
            "grid_template_rows": null,
            "height": null,
            "justify_content": null,
            "justify_items": null,
            "left": null,
            "margin": null,
            "max_height": null,
            "max_width": null,
            "min_height": null,
            "min_width": null,
            "object_fit": null,
            "object_position": null,
            "order": null,
            "overflow": null,
            "overflow_x": null,
            "overflow_y": null,
            "padding": null,
            "right": null,
            "top": null,
            "visibility": null,
            "width": null
          }
        },
        "61437abab24541809fb4eb9aede6e8a2": {
          "model_module": "@jupyter-widgets/controls",
          "model_name": "DescriptionStyleModel",
          "state": {
            "_model_module": "@jupyter-widgets/controls",
            "_model_module_version": "1.5.0",
            "_model_name": "DescriptionStyleModel",
            "_view_count": null,
            "_view_module": "@jupyter-widgets/base",
            "_view_module_version": "1.2.0",
            "_view_name": "StyleView",
            "description_width": ""
          }
        },
        "625f92b58ece4412aef4acece6c808ef": {
          "model_module": "@jupyter-widgets/controls",
          "model_name": "FloatProgressModel",
          "state": {
            "_dom_classes": [],
            "_model_module": "@jupyter-widgets/controls",
            "_model_module_version": "1.5.0",
            "_model_name": "FloatProgressModel",
            "_view_count": null,
            "_view_module": "@jupyter-widgets/controls",
            "_view_module_version": "1.5.0",
            "_view_name": "ProgressView",
            "bar_style": "success",
            "description": "Epoch: 2 &gt;&gt; Loss: 2.19:: 100%",
            "description_tooltip": null,
            "layout": "IPY_MODEL_fd045bdde79a47e4a8840904e20ba8ec",
            "max": 458,
            "min": 0,
            "orientation": "horizontal",
            "style": "IPY_MODEL_313b7c52c06d4212a4d9af31c8314649",
            "value": 458
          }
        },
        "62616d59d33a49dfa6a4177f89182976": {
          "model_module": "@jupyter-widgets/base",
          "model_name": "LayoutModel",
          "state": {
            "_model_module": "@jupyter-widgets/base",
            "_model_module_version": "1.2.0",
            "_model_name": "LayoutModel",
            "_view_count": null,
            "_view_module": "@jupyter-widgets/base",
            "_view_module_version": "1.2.0",
            "_view_name": "LayoutView",
            "align_content": null,
            "align_items": null,
            "align_self": null,
            "border": null,
            "bottom": null,
            "display": null,
            "flex": null,
            "flex_flow": null,
            "grid_area": null,
            "grid_auto_columns": null,
            "grid_auto_flow": null,
            "grid_auto_rows": null,
            "grid_column": null,
            "grid_gap": null,
            "grid_row": null,
            "grid_template_areas": null,
            "grid_template_columns": null,
            "grid_template_rows": null,
            "height": null,
            "justify_content": null,
            "justify_items": null,
            "left": null,
            "margin": null,
            "max_height": null,
            "max_width": null,
            "min_height": null,
            "min_width": null,
            "object_fit": null,
            "object_position": null,
            "order": null,
            "overflow": null,
            "overflow_x": null,
            "overflow_y": null,
            "padding": null,
            "right": null,
            "top": null,
            "visibility": null,
            "width": null
          }
        },
        "6986036cd9654238850621ab6af9abd7": {
          "model_module": "@jupyter-widgets/controls",
          "model_name": "HBoxModel",
          "state": {
            "_dom_classes": [],
            "_model_module": "@jupyter-widgets/controls",
            "_model_module_version": "1.5.0",
            "_model_name": "HBoxModel",
            "_view_count": null,
            "_view_module": "@jupyter-widgets/controls",
            "_view_module_version": "1.5.0",
            "_view_name": "HBoxView",
            "box_style": "",
            "children": [
              "IPY_MODEL_8a081820a10e418f8818fddfec96f46a",
              "IPY_MODEL_2c41baac2e434c689c4a538a9ccd2d7e"
            ],
            "layout": "IPY_MODEL_22f1cb9f844c4e3ca6a319360720ff12"
          }
        },
        "69e19db96d474296951caa1c5f3a7fd0": {
          "model_module": "@jupyter-widgets/controls",
          "model_name": "HTMLModel",
          "state": {
            "_dom_classes": [],
            "_model_module": "@jupyter-widgets/controls",
            "_model_module_version": "1.5.0",
            "_model_name": "HTMLModel",
            "_view_count": null,
            "_view_module": "@jupyter-widgets/controls",
            "_view_module_version": "1.5.0",
            "_view_name": "HTMLView",
            "description": "",
            "description_tooltip": null,
            "layout": "IPY_MODEL_3e3ee6cbb0e14d029dc8b3c6b340674f",
            "placeholder": "​",
            "style": "IPY_MODEL_61437abab24541809fb4eb9aede6e8a2",
            "value": " 458/458 [01:00&lt;00:00,  7.55it/s]"
          }
        },
        "6a3f47d620da4402ab8f981bd6bb87b5": {
          "model_module": "@jupyter-widgets/controls",
          "model_name": "ProgressStyleModel",
          "state": {
            "_model_module": "@jupyter-widgets/controls",
            "_model_module_version": "1.5.0",
            "_model_name": "ProgressStyleModel",
            "_view_count": null,
            "_view_module": "@jupyter-widgets/base",
            "_view_module_version": "1.2.0",
            "_view_name": "StyleView",
            "bar_color": null,
            "description_width": "initial"
          }
        },
        "6c31e0da56e24175a0dacfd962e3ecd1": {
          "model_module": "@jupyter-widgets/controls",
          "model_name": "FloatProgressModel",
          "state": {
            "_dom_classes": [],
            "_model_module": "@jupyter-widgets/controls",
            "_model_module_version": "1.5.0",
            "_model_name": "FloatProgressModel",
            "_view_count": null,
            "_view_module": "@jupyter-widgets/controls",
            "_view_module_version": "1.5.0",
            "_view_name": "ProgressView",
            "bar_style": "success",
            "description": "Epoch: 3 &gt;&gt; Loss: 1.90:: 100%",
            "description_tooltip": null,
            "layout": "IPY_MODEL_62616d59d33a49dfa6a4177f89182976",
            "max": 458,
            "min": 0,
            "orientation": "horizontal",
            "style": "IPY_MODEL_44bdc33c2cdc4a37aa70ee70dd9b7378",
            "value": 458
          }
        },
        "72488114ad8147eba05312837f6ba1d5": {
          "model_module": "@jupyter-widgets/base",
          "model_name": "LayoutModel",
          "state": {
            "_model_module": "@jupyter-widgets/base",
            "_model_module_version": "1.2.0",
            "_model_name": "LayoutModel",
            "_view_count": null,
            "_view_module": "@jupyter-widgets/base",
            "_view_module_version": "1.2.0",
            "_view_name": "LayoutView",
            "align_content": null,
            "align_items": null,
            "align_self": null,
            "border": null,
            "bottom": null,
            "display": null,
            "flex": null,
            "flex_flow": null,
            "grid_area": null,
            "grid_auto_columns": null,
            "grid_auto_flow": null,
            "grid_auto_rows": null,
            "grid_column": null,
            "grid_gap": null,
            "grid_row": null,
            "grid_template_areas": null,
            "grid_template_columns": null,
            "grid_template_rows": null,
            "height": null,
            "justify_content": null,
            "justify_items": null,
            "left": null,
            "margin": null,
            "max_height": null,
            "max_width": null,
            "min_height": null,
            "min_width": null,
            "object_fit": null,
            "object_position": null,
            "order": null,
            "overflow": null,
            "overflow_x": null,
            "overflow_y": null,
            "padding": null,
            "right": null,
            "top": null,
            "visibility": null,
            "width": null
          }
        },
        "74d35c2d510c47dea393fa0617b6dc3c": {
          "model_module": "@jupyter-widgets/controls",
          "model_name": "DescriptionStyleModel",
          "state": {
            "_model_module": "@jupyter-widgets/controls",
            "_model_module_version": "1.5.0",
            "_model_name": "DescriptionStyleModel",
            "_view_count": null,
            "_view_module": "@jupyter-widgets/base",
            "_view_module_version": "1.2.0",
            "_view_name": "StyleView",
            "description_width": ""
          }
        },
        "755974f7133045d2983312d1d984db09": {
          "model_module": "@jupyter-widgets/base",
          "model_name": "LayoutModel",
          "state": {
            "_model_module": "@jupyter-widgets/base",
            "_model_module_version": "1.2.0",
            "_model_name": "LayoutModel",
            "_view_count": null,
            "_view_module": "@jupyter-widgets/base",
            "_view_module_version": "1.2.0",
            "_view_name": "LayoutView",
            "align_content": null,
            "align_items": null,
            "align_self": null,
            "border": null,
            "bottom": null,
            "display": null,
            "flex": null,
            "flex_flow": null,
            "grid_area": null,
            "grid_auto_columns": null,
            "grid_auto_flow": null,
            "grid_auto_rows": null,
            "grid_column": null,
            "grid_gap": null,
            "grid_row": null,
            "grid_template_areas": null,
            "grid_template_columns": null,
            "grid_template_rows": null,
            "height": null,
            "justify_content": null,
            "justify_items": null,
            "left": null,
            "margin": null,
            "max_height": null,
            "max_width": null,
            "min_height": null,
            "min_width": null,
            "object_fit": null,
            "object_position": null,
            "order": null,
            "overflow": null,
            "overflow_x": null,
            "overflow_y": null,
            "padding": null,
            "right": null,
            "top": null,
            "visibility": null,
            "width": null
          }
        },
        "80bf922f1f554c089d5889fe4b33c4ad": {
          "model_module": "@jupyter-widgets/base",
          "model_name": "LayoutModel",
          "state": {
            "_model_module": "@jupyter-widgets/base",
            "_model_module_version": "1.2.0",
            "_model_name": "LayoutModel",
            "_view_count": null,
            "_view_module": "@jupyter-widgets/base",
            "_view_module_version": "1.2.0",
            "_view_name": "LayoutView",
            "align_content": null,
            "align_items": null,
            "align_self": null,
            "border": null,
            "bottom": null,
            "display": null,
            "flex": null,
            "flex_flow": null,
            "grid_area": null,
            "grid_auto_columns": null,
            "grid_auto_flow": null,
            "grid_auto_rows": null,
            "grid_column": null,
            "grid_gap": null,
            "grid_row": null,
            "grid_template_areas": null,
            "grid_template_columns": null,
            "grid_template_rows": null,
            "height": null,
            "justify_content": null,
            "justify_items": null,
            "left": null,
            "margin": null,
            "max_height": null,
            "max_width": null,
            "min_height": null,
            "min_width": null,
            "object_fit": null,
            "object_position": null,
            "order": null,
            "overflow": null,
            "overflow_x": null,
            "overflow_y": null,
            "padding": null,
            "right": null,
            "top": null,
            "visibility": null,
            "width": null
          }
        },
        "8415db0a6dac4f4f8d95045017ca9a8b": {
          "model_module": "@jupyter-widgets/controls",
          "model_name": "HBoxModel",
          "state": {
            "_dom_classes": [],
            "_model_module": "@jupyter-widgets/controls",
            "_model_module_version": "1.5.0",
            "_model_name": "HBoxModel",
            "_view_count": null,
            "_view_module": "@jupyter-widgets/controls",
            "_view_module_version": "1.5.0",
            "_view_name": "HBoxView",
            "box_style": "",
            "children": [
              "IPY_MODEL_c8dd54a82076499f8287dd8f0e2c5884",
              "IPY_MODEL_4a5f867834fc4df48fca594fe5609663"
            ],
            "layout": "IPY_MODEL_84ded14ead764d91aeefe861e5da61f1"
          }
        },
        "84ded14ead764d91aeefe861e5da61f1": {
          "model_module": "@jupyter-widgets/base",
          "model_name": "LayoutModel",
          "state": {
            "_model_module": "@jupyter-widgets/base",
            "_model_module_version": "1.2.0",
            "_model_name": "LayoutModel",
            "_view_count": null,
            "_view_module": "@jupyter-widgets/base",
            "_view_module_version": "1.2.0",
            "_view_name": "LayoutView",
            "align_content": null,
            "align_items": null,
            "align_self": null,
            "border": null,
            "bottom": null,
            "display": null,
            "flex": null,
            "flex_flow": null,
            "grid_area": null,
            "grid_auto_columns": null,
            "grid_auto_flow": null,
            "grid_auto_rows": null,
            "grid_column": null,
            "grid_gap": null,
            "grid_row": null,
            "grid_template_areas": null,
            "grid_template_columns": null,
            "grid_template_rows": null,
            "height": null,
            "justify_content": null,
            "justify_items": null,
            "left": null,
            "margin": null,
            "max_height": null,
            "max_width": null,
            "min_height": null,
            "min_width": null,
            "object_fit": null,
            "object_position": null,
            "order": null,
            "overflow": null,
            "overflow_x": null,
            "overflow_y": null,
            "padding": null,
            "right": null,
            "top": null,
            "visibility": null,
            "width": null
          }
        },
        "865db03744a94bfc950738cf27db4447": {
          "model_module": "@jupyter-widgets/base",
          "model_name": "LayoutModel",
          "state": {
            "_model_module": "@jupyter-widgets/base",
            "_model_module_version": "1.2.0",
            "_model_name": "LayoutModel",
            "_view_count": null,
            "_view_module": "@jupyter-widgets/base",
            "_view_module_version": "1.2.0",
            "_view_name": "LayoutView",
            "align_content": null,
            "align_items": null,
            "align_self": null,
            "border": null,
            "bottom": null,
            "display": null,
            "flex": null,
            "flex_flow": null,
            "grid_area": null,
            "grid_auto_columns": null,
            "grid_auto_flow": null,
            "grid_auto_rows": null,
            "grid_column": null,
            "grid_gap": null,
            "grid_row": null,
            "grid_template_areas": null,
            "grid_template_columns": null,
            "grid_template_rows": null,
            "height": null,
            "justify_content": null,
            "justify_items": null,
            "left": null,
            "margin": null,
            "max_height": null,
            "max_width": null,
            "min_height": null,
            "min_width": null,
            "object_fit": null,
            "object_position": null,
            "order": null,
            "overflow": null,
            "overflow_x": null,
            "overflow_y": null,
            "padding": null,
            "right": null,
            "top": null,
            "visibility": null,
            "width": null
          }
        },
        "8a081820a10e418f8818fddfec96f46a": {
          "model_module": "@jupyter-widgets/controls",
          "model_name": "FloatProgressModel",
          "state": {
            "_dom_classes": [],
            "_model_module": "@jupyter-widgets/controls",
            "_model_module_version": "1.5.0",
            "_model_name": "FloatProgressModel",
            "_view_count": null,
            "_view_module": "@jupyter-widgets/controls",
            "_view_module_version": "1.5.0",
            "_view_name": "ProgressView",
            "bar_style": "success",
            "description": "Epoch: 4 &gt;&gt; Loss: 1.68:: 100%",
            "description_tooltip": null,
            "layout": "IPY_MODEL_b2146f7eeff74ec7957ea404e3d613fa",
            "max": 458,
            "min": 0,
            "orientation": "horizontal",
            "style": "IPY_MODEL_0064851faefe42848701f4d718230083",
            "value": 458
          }
        },
        "8e4dc4d7df274cc2a1cb7dace246633f": {
          "model_module": "@jupyter-widgets/base",
          "model_name": "LayoutModel",
          "state": {
            "_model_module": "@jupyter-widgets/base",
            "_model_module_version": "1.2.0",
            "_model_name": "LayoutModel",
            "_view_count": null,
            "_view_module": "@jupyter-widgets/base",
            "_view_module_version": "1.2.0",
            "_view_name": "LayoutView",
            "align_content": null,
            "align_items": null,
            "align_self": null,
            "border": null,
            "bottom": null,
            "display": null,
            "flex": null,
            "flex_flow": null,
            "grid_area": null,
            "grid_auto_columns": null,
            "grid_auto_flow": null,
            "grid_auto_rows": null,
            "grid_column": null,
            "grid_gap": null,
            "grid_row": null,
            "grid_template_areas": null,
            "grid_template_columns": null,
            "grid_template_rows": null,
            "height": null,
            "justify_content": null,
            "justify_items": null,
            "left": null,
            "margin": null,
            "max_height": null,
            "max_width": null,
            "min_height": null,
            "min_width": null,
            "object_fit": null,
            "object_position": null,
            "order": null,
            "overflow": null,
            "overflow_x": null,
            "overflow_y": null,
            "padding": null,
            "right": null,
            "top": null,
            "visibility": null,
            "width": null
          }
        },
        "98c132cb7da04fc9a18a6e5119bde941": {
          "model_module": "@jupyter-widgets/controls",
          "model_name": "ProgressStyleModel",
          "state": {
            "_model_module": "@jupyter-widgets/controls",
            "_model_module_version": "1.5.0",
            "_model_name": "ProgressStyleModel",
            "_view_count": null,
            "_view_module": "@jupyter-widgets/base",
            "_view_module_version": "1.2.0",
            "_view_name": "StyleView",
            "bar_color": null,
            "description_width": "initial"
          }
        },
        "9a35673c7f814c7ba69ef37ec8df8e2e": {
          "model_module": "@jupyter-widgets/base",
          "model_name": "LayoutModel",
          "state": {
            "_model_module": "@jupyter-widgets/base",
            "_model_module_version": "1.2.0",
            "_model_name": "LayoutModel",
            "_view_count": null,
            "_view_module": "@jupyter-widgets/base",
            "_view_module_version": "1.2.0",
            "_view_name": "LayoutView",
            "align_content": null,
            "align_items": null,
            "align_self": null,
            "border": null,
            "bottom": null,
            "display": null,
            "flex": null,
            "flex_flow": null,
            "grid_area": null,
            "grid_auto_columns": null,
            "grid_auto_flow": null,
            "grid_auto_rows": null,
            "grid_column": null,
            "grid_gap": null,
            "grid_row": null,
            "grid_template_areas": null,
            "grid_template_columns": null,
            "grid_template_rows": null,
            "height": null,
            "justify_content": null,
            "justify_items": null,
            "left": null,
            "margin": null,
            "max_height": null,
            "max_width": null,
            "min_height": null,
            "min_width": null,
            "object_fit": null,
            "object_position": null,
            "order": null,
            "overflow": null,
            "overflow_x": null,
            "overflow_y": null,
            "padding": null,
            "right": null,
            "top": null,
            "visibility": null,
            "width": null
          }
        },
        "9c7a41c06997467f97d1a71fd06ee366": {
          "model_module": "@jupyter-widgets/controls",
          "model_name": "ProgressStyleModel",
          "state": {
            "_model_module": "@jupyter-widgets/controls",
            "_model_module_version": "1.5.0",
            "_model_name": "ProgressStyleModel",
            "_view_count": null,
            "_view_module": "@jupyter-widgets/base",
            "_view_module_version": "1.2.0",
            "_view_name": "StyleView",
            "bar_color": null,
            "description_width": "initial"
          }
        },
        "9d8aef058f34419b9f8ce2969960999c": {
          "model_module": "@jupyter-widgets/controls",
          "model_name": "HTMLModel",
          "state": {
            "_dom_classes": [],
            "_model_module": "@jupyter-widgets/controls",
            "_model_module_version": "1.5.0",
            "_model_name": "HTMLModel",
            "_view_count": null,
            "_view_module": "@jupyter-widgets/controls",
            "_view_module_version": "1.5.0",
            "_view_name": "HTMLView",
            "description": "",
            "description_tooltip": null,
            "layout": "IPY_MODEL_2caf2558f1e547a5bbc017f8c49f6d19",
            "placeholder": "​",
            "style": "IPY_MODEL_27ab6771041b4aa6bc28cbbf3160f465",
            "value": " 458/458 [01:55&lt;00:00,  3.98it/s]"
          }
        },
        "a13f89195203416187c24a6fb7b2592e": {
          "model_module": "@jupyter-widgets/controls",
          "model_name": "DescriptionStyleModel",
          "state": {
            "_model_module": "@jupyter-widgets/controls",
            "_model_module_version": "1.5.0",
            "_model_name": "DescriptionStyleModel",
            "_view_count": null,
            "_view_module": "@jupyter-widgets/base",
            "_view_module_version": "1.2.0",
            "_view_name": "StyleView",
            "description_width": ""
          }
        },
        "a41720300e9b4be0bf2ea1db12e8c0ff": {
          "model_module": "@jupyter-widgets/controls",
          "model_name": "HTMLModel",
          "state": {
            "_dom_classes": [],
            "_model_module": "@jupyter-widgets/controls",
            "_model_module_version": "1.5.0",
            "_model_name": "HTMLModel",
            "_view_count": null,
            "_view_module": "@jupyter-widgets/controls",
            "_view_module_version": "1.5.0",
            "_view_name": "HTMLView",
            "description": "",
            "description_tooltip": null,
            "layout": "IPY_MODEL_4af08abcbce0440cb53e8906d0500130",
            "placeholder": "​",
            "style": "IPY_MODEL_74d35c2d510c47dea393fa0617b6dc3c",
            "value": " 30823/30823 [00:00&lt;00:00, 107347.65it/s]"
          }
        },
        "aefc7abc54954fa8b4ca436f62135737": {
          "model_module": "@jupyter-widgets/controls",
          "model_name": "FloatProgressModel",
          "state": {
            "_dom_classes": [],
            "_model_module": "@jupyter-widgets/controls",
            "_model_module_version": "1.5.0",
            "_model_name": "FloatProgressModel",
            "_view_count": null,
            "_view_module": "@jupyter-widgets/controls",
            "_view_module_version": "1.5.0",
            "_view_name": "ProgressView",
            "bar_style": "success",
            "description": "Reading file:: 100%",
            "description_tooltip": null,
            "layout": "IPY_MODEL_2705545d33064f07a196b5c9ab4d52a0",
            "max": 30823,
            "min": 0,
            "orientation": "horizontal",
            "style": "IPY_MODEL_9c7a41c06997467f97d1a71fd06ee366",
            "value": 30823
          }
        },
        "b2146f7eeff74ec7957ea404e3d613fa": {
          "model_module": "@jupyter-widgets/base",
          "model_name": "LayoutModel",
          "state": {
            "_model_module": "@jupyter-widgets/base",
            "_model_module_version": "1.2.0",
            "_model_name": "LayoutModel",
            "_view_count": null,
            "_view_module": "@jupyter-widgets/base",
            "_view_module_version": "1.2.0",
            "_view_name": "LayoutView",
            "align_content": null,
            "align_items": null,
            "align_self": null,
            "border": null,
            "bottom": null,
            "display": null,
            "flex": null,
            "flex_flow": null,
            "grid_area": null,
            "grid_auto_columns": null,
            "grid_auto_flow": null,
            "grid_auto_rows": null,
            "grid_column": null,
            "grid_gap": null,
            "grid_row": null,
            "grid_template_areas": null,
            "grid_template_columns": null,
            "grid_template_rows": null,
            "height": null,
            "justify_content": null,
            "justify_items": null,
            "left": null,
            "margin": null,
            "max_height": null,
            "max_width": null,
            "min_height": null,
            "min_width": null,
            "object_fit": null,
            "object_position": null,
            "order": null,
            "overflow": null,
            "overflow_x": null,
            "overflow_y": null,
            "padding": null,
            "right": null,
            "top": null,
            "visibility": null,
            "width": null
          }
        },
        "b6cc4179cfc94cfea38c90a9a927314b": {
          "model_module": "@jupyter-widgets/base",
          "model_name": "LayoutModel",
          "state": {
            "_model_module": "@jupyter-widgets/base",
            "_model_module_version": "1.2.0",
            "_model_name": "LayoutModel",
            "_view_count": null,
            "_view_module": "@jupyter-widgets/base",
            "_view_module_version": "1.2.0",
            "_view_name": "LayoutView",
            "align_content": null,
            "align_items": null,
            "align_self": null,
            "border": null,
            "bottom": null,
            "display": null,
            "flex": null,
            "flex_flow": null,
            "grid_area": null,
            "grid_auto_columns": null,
            "grid_auto_flow": null,
            "grid_auto_rows": null,
            "grid_column": null,
            "grid_gap": null,
            "grid_row": null,
            "grid_template_areas": null,
            "grid_template_columns": null,
            "grid_template_rows": null,
            "height": null,
            "justify_content": null,
            "justify_items": null,
            "left": null,
            "margin": null,
            "max_height": null,
            "max_width": null,
            "min_height": null,
            "min_width": null,
            "object_fit": null,
            "object_position": null,
            "order": null,
            "overflow": null,
            "overflow_x": null,
            "overflow_y": null,
            "padding": null,
            "right": null,
            "top": null,
            "visibility": null,
            "width": null
          }
        },
        "b8b2fc68eb5049f18307403278289b2c": {
          "model_module": "@jupyter-widgets/controls",
          "model_name": "ProgressStyleModel",
          "state": {
            "_model_module": "@jupyter-widgets/controls",
            "_model_module_version": "1.5.0",
            "_model_name": "ProgressStyleModel",
            "_view_count": null,
            "_view_module": "@jupyter-widgets/base",
            "_view_module_version": "1.2.0",
            "_view_name": "StyleView",
            "bar_color": null,
            "description_width": "initial"
          }
        },
        "bdeb78a328574833bd11d89541097c06": {
          "model_module": "@jupyter-widgets/base",
          "model_name": "LayoutModel",
          "state": {
            "_model_module": "@jupyter-widgets/base",
            "_model_module_version": "1.2.0",
            "_model_name": "LayoutModel",
            "_view_count": null,
            "_view_module": "@jupyter-widgets/base",
            "_view_module_version": "1.2.0",
            "_view_name": "LayoutView",
            "align_content": null,
            "align_items": null,
            "align_self": null,
            "border": null,
            "bottom": null,
            "display": null,
            "flex": null,
            "flex_flow": null,
            "grid_area": null,
            "grid_auto_columns": null,
            "grid_auto_flow": null,
            "grid_auto_rows": null,
            "grid_column": null,
            "grid_gap": null,
            "grid_row": null,
            "grid_template_areas": null,
            "grid_template_columns": null,
            "grid_template_rows": null,
            "height": null,
            "justify_content": null,
            "justify_items": null,
            "left": null,
            "margin": null,
            "max_height": null,
            "max_width": null,
            "min_height": null,
            "min_width": null,
            "object_fit": null,
            "object_position": null,
            "order": null,
            "overflow": null,
            "overflow_x": null,
            "overflow_y": null,
            "padding": null,
            "right": null,
            "top": null,
            "visibility": null,
            "width": null
          }
        },
        "be09d8af79204b48ae10fd2eda64603b": {
          "model_module": "@jupyter-widgets/controls",
          "model_name": "DescriptionStyleModel",
          "state": {
            "_model_module": "@jupyter-widgets/controls",
            "_model_module_version": "1.5.0",
            "_model_name": "DescriptionStyleModel",
            "_view_count": null,
            "_view_module": "@jupyter-widgets/base",
            "_view_module_version": "1.2.0",
            "_view_name": "StyleView",
            "description_width": ""
          }
        },
        "c6511c4b930c48268e4aa8fbf93b47c1": {
          "model_module": "@jupyter-widgets/controls",
          "model_name": "HTMLModel",
          "state": {
            "_dom_classes": [],
            "_model_module": "@jupyter-widgets/controls",
            "_model_module_version": "1.5.0",
            "_model_name": "HTMLModel",
            "_view_count": null,
            "_view_module": "@jupyter-widgets/controls",
            "_view_module_version": "1.5.0",
            "_view_name": "HTMLView",
            "description": "",
            "description_tooltip": null,
            "layout": "IPY_MODEL_1122b35e0a724376ad26845d5820c2f4",
            "placeholder": "​",
            "style": "IPY_MODEL_d0fc3fb4eac34345aa518a3de3db97b9",
            "value": " 458/458 [07:59&lt;00:00,  1.05s/it]"
          }
        },
        "c69247dc2e35458c9f0d840ab7bb5d10": {
          "model_module": "@jupyter-widgets/controls",
          "model_name": "DescriptionStyleModel",
          "state": {
            "_model_module": "@jupyter-widgets/controls",
            "_model_module_version": "1.5.0",
            "_model_name": "DescriptionStyleModel",
            "_view_count": null,
            "_view_module": "@jupyter-widgets/base",
            "_view_module_version": "1.2.0",
            "_view_name": "StyleView",
            "description_width": ""
          }
        },
        "c863c2e7ec454ea1a929bc926bf0b493": {
          "model_module": "@jupyter-widgets/controls",
          "model_name": "ProgressStyleModel",
          "state": {
            "_model_module": "@jupyter-widgets/controls",
            "_model_module_version": "1.5.0",
            "_model_name": "ProgressStyleModel",
            "_view_count": null,
            "_view_module": "@jupyter-widgets/base",
            "_view_module_version": "1.2.0",
            "_view_name": "StyleView",
            "bar_color": null,
            "description_width": "initial"
          }
        },
        "c8dd54a82076499f8287dd8f0e2c5884": {
          "model_module": "@jupyter-widgets/controls",
          "model_name": "FloatProgressModel",
          "state": {
            "_dom_classes": [],
            "_model_module": "@jupyter-widgets/controls",
            "_model_module_version": "1.5.0",
            "_model_name": "FloatProgressModel",
            "_view_count": null,
            "_view_module": "@jupyter-widgets/controls",
            "_view_module_version": "1.5.0",
            "_view_name": "ProgressView",
            "bar_style": "success",
            "description": "Epoch: 7 &gt;&gt; Loss: 1.23:: 100%",
            "description_tooltip": null,
            "layout": "IPY_MODEL_eca7457948f9472b9bbc47a1eca58660",
            "max": 458,
            "min": 0,
            "orientation": "horizontal",
            "style": "IPY_MODEL_39a89860f3744f629e1fbd4f0b0573e1",
            "value": 458
          }
        },
        "cd659f72e3cf4c68ae7b0060f923908e": {
          "model_module": "@jupyter-widgets/controls",
          "model_name": "FloatProgressModel",
          "state": {
            "_dom_classes": [],
            "_model_module": "@jupyter-widgets/controls",
            "_model_module_version": "1.5.0",
            "_model_name": "FloatProgressModel",
            "_view_count": null,
            "_view_module": "@jupyter-widgets/controls",
            "_view_module_version": "1.5.0",
            "_view_name": "ProgressView",
            "bar_style": "success",
            "description": "Processing inputs:: 100%",
            "description_tooltip": null,
            "layout": "IPY_MODEL_b6cc4179cfc94cfea38c90a9a927314b",
            "max": 30823,
            "min": 0,
            "orientation": "horizontal",
            "style": "IPY_MODEL_202a9c83e0cd42a78219d6136b632fb3",
            "value": 30823
          }
        },
        "ce257333d153427295777520362ccd05": {
          "model_module": "@jupyter-widgets/base",
          "model_name": "LayoutModel",
          "state": {
            "_model_module": "@jupyter-widgets/base",
            "_model_module_version": "1.2.0",
            "_model_name": "LayoutModel",
            "_view_count": null,
            "_view_module": "@jupyter-widgets/base",
            "_view_module_version": "1.2.0",
            "_view_name": "LayoutView",
            "align_content": null,
            "align_items": null,
            "align_self": null,
            "border": null,
            "bottom": null,
            "display": null,
            "flex": null,
            "flex_flow": null,
            "grid_area": null,
            "grid_auto_columns": null,
            "grid_auto_flow": null,
            "grid_auto_rows": null,
            "grid_column": null,
            "grid_gap": null,
            "grid_row": null,
            "grid_template_areas": null,
            "grid_template_columns": null,
            "grid_template_rows": null,
            "height": null,
            "justify_content": null,
            "justify_items": null,
            "left": null,
            "margin": null,
            "max_height": null,
            "max_width": null,
            "min_height": null,
            "min_width": null,
            "object_fit": null,
            "object_position": null,
            "order": null,
            "overflow": null,
            "overflow_x": null,
            "overflow_y": null,
            "padding": null,
            "right": null,
            "top": null,
            "visibility": null,
            "width": null
          }
        },
        "cf010d6f2e6242b0908e2c36fe412ecf": {
          "model_module": "@jupyter-widgets/controls",
          "model_name": "HTMLModel",
          "state": {
            "_dom_classes": [],
            "_model_module": "@jupyter-widgets/controls",
            "_model_module_version": "1.5.0",
            "_model_name": "HTMLModel",
            "_view_count": null,
            "_view_module": "@jupyter-widgets/controls",
            "_view_module_version": "1.5.0",
            "_view_name": "HTMLView",
            "description": "",
            "description_tooltip": null,
            "layout": "IPY_MODEL_16197148257e414b981f04fe74f32082",
            "placeholder": "​",
            "style": "IPY_MODEL_e8bcabd8d1f2496a826c71bb864a0c21",
            "value": " 30823/30823 [00:01&lt;00:00, 22881.76it/s]"
          }
        },
        "cf073c237e9c491cbf1e77afdfb128a2": {
          "model_module": "@jupyter-widgets/controls",
          "model_name": "HBoxModel",
          "state": {
            "_dom_classes": [],
            "_model_module": "@jupyter-widgets/controls",
            "_model_module_version": "1.5.0",
            "_model_name": "HBoxModel",
            "_view_count": null,
            "_view_module": "@jupyter-widgets/controls",
            "_view_module_version": "1.5.0",
            "_view_name": "HBoxView",
            "box_style": "",
            "children": [
              "IPY_MODEL_625f92b58ece4412aef4acece6c808ef",
              "IPY_MODEL_09493b2c48dd45acbcc49eb7be593b6b"
            ],
            "layout": "IPY_MODEL_507e5be634b64d81a8d0a77c1a27a7ac"
          }
        },
        "d0fc3fb4eac34345aa518a3de3db97b9": {
          "model_module": "@jupyter-widgets/controls",
          "model_name": "DescriptionStyleModel",
          "state": {
            "_model_module": "@jupyter-widgets/controls",
            "_model_module_version": "1.5.0",
            "_model_name": "DescriptionStyleModel",
            "_view_count": null,
            "_view_module": "@jupyter-widgets/base",
            "_view_module_version": "1.2.0",
            "_view_name": "StyleView",
            "description_width": ""
          }
        },
        "d86601402e8b40609d1d46cbb39a0f50": {
          "model_module": "@jupyter-widgets/base",
          "model_name": "LayoutModel",
          "state": {
            "_model_module": "@jupyter-widgets/base",
            "_model_module_version": "1.2.0",
            "_model_name": "LayoutModel",
            "_view_count": null,
            "_view_module": "@jupyter-widgets/base",
            "_view_module_version": "1.2.0",
            "_view_name": "LayoutView",
            "align_content": null,
            "align_items": null,
            "align_self": null,
            "border": null,
            "bottom": null,
            "display": null,
            "flex": null,
            "flex_flow": null,
            "grid_area": null,
            "grid_auto_columns": null,
            "grid_auto_flow": null,
            "grid_auto_rows": null,
            "grid_column": null,
            "grid_gap": null,
            "grid_row": null,
            "grid_template_areas": null,
            "grid_template_columns": null,
            "grid_template_rows": null,
            "height": null,
            "justify_content": null,
            "justify_items": null,
            "left": null,
            "margin": null,
            "max_height": null,
            "max_width": null,
            "min_height": null,
            "min_width": null,
            "object_fit": null,
            "object_position": null,
            "order": null,
            "overflow": null,
            "overflow_x": null,
            "overflow_y": null,
            "padding": null,
            "right": null,
            "top": null,
            "visibility": null,
            "width": null
          }
        },
        "def35a26db46422782379d1adeb8507d": {
          "model_module": "@jupyter-widgets/controls",
          "model_name": "ProgressStyleModel",
          "state": {
            "_model_module": "@jupyter-widgets/controls",
            "_model_module_version": "1.5.0",
            "_model_name": "ProgressStyleModel",
            "_view_count": null,
            "_view_module": "@jupyter-widgets/base",
            "_view_module_version": "1.2.0",
            "_view_name": "StyleView",
            "bar_color": null,
            "description_width": "initial"
          }
        },
        "dfefd7791a2544b2a2e125b28c8b6018": {
          "model_module": "@jupyter-widgets/base",
          "model_name": "LayoutModel",
          "state": {
            "_model_module": "@jupyter-widgets/base",
            "_model_module_version": "1.2.0",
            "_model_name": "LayoutModel",
            "_view_count": null,
            "_view_module": "@jupyter-widgets/base",
            "_view_module_version": "1.2.0",
            "_view_name": "LayoutView",
            "align_content": null,
            "align_items": null,
            "align_self": null,
            "border": null,
            "bottom": null,
            "display": null,
            "flex": null,
            "flex_flow": null,
            "grid_area": null,
            "grid_auto_columns": null,
            "grid_auto_flow": null,
            "grid_auto_rows": null,
            "grid_column": null,
            "grid_gap": null,
            "grid_row": null,
            "grid_template_areas": null,
            "grid_template_columns": null,
            "grid_template_rows": null,
            "height": null,
            "justify_content": null,
            "justify_items": null,
            "left": null,
            "margin": null,
            "max_height": null,
            "max_width": null,
            "min_height": null,
            "min_width": null,
            "object_fit": null,
            "object_position": null,
            "order": null,
            "overflow": null,
            "overflow_x": null,
            "overflow_y": null,
            "padding": null,
            "right": null,
            "top": null,
            "visibility": null,
            "width": null
          }
        },
        "e3f0bf6f5454460d9618e0136a636c67": {
          "model_module": "@jupyter-widgets/controls",
          "model_name": "HBoxModel",
          "state": {
            "_dom_classes": [],
            "_model_module": "@jupyter-widgets/controls",
            "_model_module_version": "1.5.0",
            "_model_name": "HBoxModel",
            "_view_count": null,
            "_view_module": "@jupyter-widgets/controls",
            "_view_module_version": "1.5.0",
            "_view_name": "HBoxView",
            "box_style": "",
            "children": [
              "IPY_MODEL_0110db568ad64fbcb90c952068343ef8",
              "IPY_MODEL_69e19db96d474296951caa1c5f3a7fd0"
            ],
            "layout": "IPY_MODEL_279cc177a5384399a902d3551e1bb1b5"
          }
        },
        "e8bcabd8d1f2496a826c71bb864a0c21": {
          "model_module": "@jupyter-widgets/controls",
          "model_name": "DescriptionStyleModel",
          "state": {
            "_model_module": "@jupyter-widgets/controls",
            "_model_module_version": "1.5.0",
            "_model_name": "DescriptionStyleModel",
            "_view_count": null,
            "_view_module": "@jupyter-widgets/base",
            "_view_module_version": "1.2.0",
            "_view_name": "StyleView",
            "description_width": ""
          }
        },
        "eca7457948f9472b9bbc47a1eca58660": {
          "model_module": "@jupyter-widgets/base",
          "model_name": "LayoutModel",
          "state": {
            "_model_module": "@jupyter-widgets/base",
            "_model_module_version": "1.2.0",
            "_model_name": "LayoutModel",
            "_view_count": null,
            "_view_module": "@jupyter-widgets/base",
            "_view_module_version": "1.2.0",
            "_view_name": "LayoutView",
            "align_content": null,
            "align_items": null,
            "align_self": null,
            "border": null,
            "bottom": null,
            "display": null,
            "flex": null,
            "flex_flow": null,
            "grid_area": null,
            "grid_auto_columns": null,
            "grid_auto_flow": null,
            "grid_auto_rows": null,
            "grid_column": null,
            "grid_gap": null,
            "grid_row": null,
            "grid_template_areas": null,
            "grid_template_columns": null,
            "grid_template_rows": null,
            "height": null,
            "justify_content": null,
            "justify_items": null,
            "left": null,
            "margin": null,
            "max_height": null,
            "max_width": null,
            "min_height": null,
            "min_width": null,
            "object_fit": null,
            "object_position": null,
            "order": null,
            "overflow": null,
            "overflow_x": null,
            "overflow_y": null,
            "padding": null,
            "right": null,
            "top": null,
            "visibility": null,
            "width": null
          }
        },
        "fd045bdde79a47e4a8840904e20ba8ec": {
          "model_module": "@jupyter-widgets/base",
          "model_name": "LayoutModel",
          "state": {
            "_model_module": "@jupyter-widgets/base",
            "_model_module_version": "1.2.0",
            "_model_name": "LayoutModel",
            "_view_count": null,
            "_view_module": "@jupyter-widgets/base",
            "_view_module_version": "1.2.0",
            "_view_name": "LayoutView",
            "align_content": null,
            "align_items": null,
            "align_self": null,
            "border": null,
            "bottom": null,
            "display": null,
            "flex": null,
            "flex_flow": null,
            "grid_area": null,
            "grid_auto_columns": null,
            "grid_auto_flow": null,
            "grid_auto_rows": null,
            "grid_column": null,
            "grid_gap": null,
            "grid_row": null,
            "grid_template_areas": null,
            "grid_template_columns": null,
            "grid_template_rows": null,
            "height": null,
            "justify_content": null,
            "justify_items": null,
            "left": null,
            "margin": null,
            "max_height": null,
            "max_width": null,
            "min_height": null,
            "min_width": null,
            "object_fit": null,
            "object_position": null,
            "order": null,
            "overflow": null,
            "overflow_x": null,
            "overflow_y": null,
            "padding": null,
            "right": null,
            "top": null,
            "visibility": null,
            "width": null
          }
        },
        "fec599cdfa53482db8140609b745c261": {
          "model_module": "@jupyter-widgets/base",
          "model_name": "LayoutModel",
          "state": {
            "_model_module": "@jupyter-widgets/base",
            "_model_module_version": "1.2.0",
            "_model_name": "LayoutModel",
            "_view_count": null,
            "_view_module": "@jupyter-widgets/base",
            "_view_module_version": "1.2.0",
            "_view_name": "LayoutView",
            "align_content": null,
            "align_items": null,
            "align_self": null,
            "border": null,
            "bottom": null,
            "display": null,
            "flex": null,
            "flex_flow": null,
            "grid_area": null,
            "grid_auto_columns": null,
            "grid_auto_flow": null,
            "grid_auto_rows": null,
            "grid_column": null,
            "grid_gap": null,
            "grid_row": null,
            "grid_template_areas": null,
            "grid_template_columns": null,
            "grid_template_rows": null,
            "height": null,
            "justify_content": null,
            "justify_items": null,
            "left": null,
            "margin": null,
            "max_height": null,
            "max_width": null,
            "min_height": null,
            "min_width": null,
            "object_fit": null,
            "object_position": null,
            "order": null,
            "overflow": null,
            "overflow_x": null,
            "overflow_y": null,
            "padding": null,
            "right": null,
            "top": null,
            "visibility": null,
            "width": null
          }
        }
      }
    }
  },
  "nbformat": 4,
  "nbformat_minor": 0
}
